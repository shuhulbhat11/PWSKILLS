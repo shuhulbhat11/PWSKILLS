{
  "nbformat": 4,
  "nbformat_minor": 0,
  "metadata": {
    "colab": {
      "provenance": []
    },
    "kernelspec": {
      "name": "python3",
      "display_name": "Python 3"
    },
    "language_info": {
      "name": "python"
    }
  },
  "cells": [
    {
      "cell_type": "code",
      "execution_count": null,
      "metadata": {
        "id": "N-FiXOPOJHQV"
      },
      "outputs": [],
      "source": []
    },
    {
      "cell_type": "markdown",
      "source": [],
      "metadata": {
        "id": "jMPTpwNlJqYb"
      }
    },
    {
      "cell_type": "markdown",
      "source": [
        "##1. Explain the key features of Python that make it a popular choice for programming.\n",
        "\n",
        "Ans: Python programming easy to write and easy to understand, hence making it a popular choice for programming.\n",
        "\n",
        "##2. Describe the role of predefined keywords in Python and provide examples of how they are used in a program.\n",
        "\n",
        "Ans: Predefined kewords are reserved words in python that have special meanings and can not be used as identifiers. these keywords are case sensitive and can not be redefined or overridden within a python program. Some examples are: if, else, while, try, class, for, def, return, True, False, None etc.\n"
      ],
      "metadata": {
        "id": "TjIlLjGfzlv-"
      }
    },
    {
      "cell_type": "code",
      "source": [
        "a = 5\n",
        "b = 7\n",
        "a<b"
      ],
      "metadata": {
        "colab": {
          "base_uri": "https://localhost:8080/"
        },
        "id": "LjBvbLhdAZHq",
        "outputId": "e9037603-1dd5-43c6-cb96-6fcdf0c1ed9c"
      },
      "execution_count": 10,
      "outputs": [
        {
          "output_type": "execute_result",
          "data": {
            "text/plain": [
              "True"
            ]
          },
          "metadata": {},
          "execution_count": 10
        }
      ]
    },
    {
      "cell_type": "markdown",
      "source": [
        "##3. Compare and contrast mutable and immutable objects in Python with examples.\n",
        "\n",
        "Ans: Mutable objects can be modified after creation, while immutable objects cannot be modified after creation. For ex: Mutable objects like L1 = [7, 9, 10] is a list containing integers and we can change any integer for ex i want to change 10 and write 15 at its place, i can write L1[2] = 15 and the L1 will change to [7, 9, 15]. But in case of immutability, for ex a = [\"Shuhul\"] and I want to change S letter in the string, I wont be able to do that. Hence Lists and Dictionaries are mutable and strings and tuples are immutable.\n"
      ],
      "metadata": {
        "id": "u_gyfkU8A1as"
      }
    },
    {
      "cell_type": "code",
      "source": [
        "L1 = [7,9,10]\n",
        "L1[2] = 15\n",
        "L1"
      ],
      "metadata": {
        "colab": {
          "base_uri": "https://localhost:8080/"
        },
        "id": "9_rb3nnWA6tC",
        "outputId": "fc8bbb53-7a66-4d89-fc30-fbce8d2ea06a"
      },
      "execution_count": 12,
      "outputs": [
        {
          "output_type": "execute_result",
          "data": {
            "text/plain": [
              "[7, 9, 15]"
            ]
          },
          "metadata": {},
          "execution_count": 12
        }
      ]
    },
    {
      "cell_type": "markdown",
      "source": [
        "##4. Explain the concept of type casting in Python with examples.\n",
        "\n",
        "Ans:  Type casting, also referred to as type conversion, is the process of changing one data type to another in Python.\n",
        "Python provides built-in functions for type casting, such as int(), float(), str(), list(), tuple(), dict(), etc.\n",
        "Type casting is often necessary for performing arithmetic operations, data manipulation, and input/output operations in Python programs.\n",
        "For Ex: If a = \"7\" and we look for type[a] it will be a string because it is inside double inverted commas. in order to change its type and convert it from string to an integer, we will write a = int(a)."
      ],
      "metadata": {
        "id": "o0tV6KMhBHz5"
      }
    },
    {
      "cell_type": "code",
      "source": [
        "a = \"7\"\n",
        "a = int(a)"
      ],
      "metadata": {
        "id": "vgFtaXsABMVE"
      },
      "execution_count": 13,
      "outputs": []
    },
    {
      "cell_type": "code",
      "source": [
        "a"
      ],
      "metadata": {
        "colab": {
          "base_uri": "https://localhost:8080/"
        },
        "id": "uUpyLBfRBTzl",
        "outputId": "1f35b593-703c-4afa-8261-f02087b363da"
      },
      "execution_count": 14,
      "outputs": [
        {
          "output_type": "execute_result",
          "data": {
            "text/plain": [
              "7"
            ]
          },
          "metadata": {},
          "execution_count": 14
        }
      ]
    },
    {
      "cell_type": "markdown",
      "source": [],
      "metadata": {
        "id": "sKZA4eqF0I0z"
      }
    },
    {
      "cell_type": "markdown",
      "source": [
        "##5. Discuss the different types of operators in Python and provide examples of how they are used.\n",
        "\n",
        "Ans: Operators are special symbols or keywords that are used to carry out specific actions on numbers or variables in Python expressions. There are 7 types of operators which are:\n",
        "1. Arithmatic operators: +, -, *, /\n",
        "2. Comparison Operators: ==, >, <, >= etc.\n",
        "3. Logical operators: and, or, not etc.\n",
        "4. Bitwise operators: '<<' Left shift, '>>' Right shift\n",
        "5. Assignment operators:\n",
        "6. Membership operators: in, not in\n",
        "7. Identity operators: is, is not.\n"
      ],
      "metadata": {
        "id": "kz6taJhNBYXx"
      }
    },
    {
      "cell_type": "code",
      "source": [
        "a = 5\n",
        "b = 7\n",
        "a*b"
      ],
      "metadata": {
        "colab": {
          "base_uri": "https://localhost:8080/"
        },
        "id": "qOXv1en6Bc_k",
        "outputId": "6fe1e15f-5508-44f4-9213-8d1bd5ed1c1e"
      },
      "execution_count": 17,
      "outputs": [
        {
          "output_type": "execute_result",
          "data": {
            "text/plain": [
              "35"
            ]
          },
          "metadata": {},
          "execution_count": 17
        }
      ]
    },
    {
      "cell_type": "code",
      "source": [
        "a+b"
      ],
      "metadata": {
        "colab": {
          "base_uri": "https://localhost:8080/"
        },
        "id": "titI86pABiZx",
        "outputId": "bb1e4c13-1b15-4d71-cf95-a7887c7db1c5"
      },
      "execution_count": 18,
      "outputs": [
        {
          "output_type": "execute_result",
          "data": {
            "text/plain": [
              "12"
            ]
          },
          "metadata": {},
          "execution_count": 18
        }
      ]
    },
    {
      "cell_type": "markdown",
      "source": [
        "##6. How do conditional statements work in Python? Illustrate with examples.\n",
        "\n",
        "Ans: Conditionals in Python are used to execute code based on the evaluation of one or more conditions.\n"
      ],
      "metadata": {
        "id": "nygg4cJLBx3l"
      }
    },
    {
      "cell_type": "code",
      "source": [
        "a = 45\n",
        "if (a>3):\n",
        "  print(\"The value of a is greater than 3\")\n",
        "elif (a>13):\n",
        "  print(\"The value of a is greater than 13\")\n",
        "else:\n",
        "  print(\"The value is not greater than 3 or 13\")"
      ],
      "metadata": {
        "colab": {
          "base_uri": "https://localhost:8080/"
        },
        "id": "jXoTWSpDB398",
        "outputId": "1d04c964-00af-4dff-9057-7d3513c5e1a3"
      },
      "execution_count": 21,
      "outputs": [
        {
          "output_type": "stream",
          "name": "stdout",
          "text": [
            "The value of a is greater than 3\n"
          ]
        }
      ]
    },
    {
      "cell_type": "markdown",
      "source": [
        "##7. Describe the different types of loops in Python and their use cases with examples.\n",
        "\n",
        "ans: In Python, loops are employed to repeat a sequence of actions or code until a specific condition is fulfilled. Python offers two primary types of loops: for loops and while loops.\n",
        "“for” loops are used for iterating over a sequence of elements, while “while” loops are used for executing code until a specified condition becomes False"
      ],
      "metadata": {
        "id": "WMnORCdWComO"
      }
    },
    {
      "cell_type": "code",
      "source": [
        "i = 1\n",
        "while i <= 10:\n",
        "  print(i)\n",
        "  i = i+1"
      ],
      "metadata": {
        "colab": {
          "base_uri": "https://localhost:8080/"
        },
        "id": "_6lwOdUqCtsE",
        "outputId": "4c498226-5924-438d-d73a-89424d0e353f"
      },
      "execution_count": 24,
      "outputs": [
        {
          "output_type": "stream",
          "name": "stdout",
          "text": [
            "1\n",
            "2\n",
            "3\n",
            "4\n",
            "5\n",
            "6\n",
            "7\n",
            "8\n",
            "9\n",
            "10\n"
          ]
        }
      ]
    },
    {
      "cell_type": "code",
      "source": [
        "for i in range (1,11):\n",
        "  print(i)"
      ],
      "metadata": {
        "colab": {
          "base_uri": "https://localhost:8080/"
        },
        "id": "RIWQeQOrBstH",
        "outputId": "4e1dd7d2-526b-44da-db54-282803b27ee4"
      },
      "execution_count": 26,
      "outputs": [
        {
          "output_type": "stream",
          "name": "stdout",
          "text": [
            "1\n",
            "2\n",
            "3\n",
            "4\n",
            "5\n",
            "6\n",
            "7\n",
            "8\n",
            "9\n",
            "10\n"
          ]
        }
      ]
    },
    {
      "cell_type": "code",
      "source": [],
      "metadata": {
        "id": "omL0v6G6DRF6"
      },
      "execution_count": null,
      "outputs": []
    }
  ]
}