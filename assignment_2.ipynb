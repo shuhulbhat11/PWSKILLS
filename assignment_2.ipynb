{
  "nbformat": 4,
  "nbformat_minor": 0,
  "metadata": {
    "colab": {
      "provenance": []
    },
    "kernelspec": {
      "name": "python3",
      "display_name": "Python 3"
    },
    "language_info": {
      "name": "python"
    }
  },
  "cells": [
    {
      "cell_type": "code",
      "execution_count": null,
      "metadata": {
        "id": "yzMfjGxxE8LS"
      },
      "outputs": [],
      "source": []
    },
    {
      "cell_type": "markdown",
      "source": [
        "###Discuss string slicing and provide examples\n",
        "Ans. String slicing is a technique in Python that allows you to extract a portion of a string by specifying a start index, an end index, and an optional step value. The syntax for slicing is:\n",
        "\n"
      ],
      "metadata": {
        "id": "YBlZe9kKFPIF"
      }
    },
    {
      "cell_type": "code",
      "source": [
        "greeting = \"Hello, World!\"\n",
        "slice1 = greeting[0:5]  # 'Hello'\n",
        "slice2 = greeting[7:12] # 'World'\n",
        "print(slice1)\n",
        "print(slice2)"
      ],
      "metadata": {
        "colab": {
          "base_uri": "https://localhost:8080/"
        },
        "id": "zMzPwkPSGJnw",
        "outputId": "d2b97b99-d9de-4db9-b0cb-6e5d2aeb6b8a"
      },
      "execution_count": 3,
      "outputs": [
        {
          "output_type": "stream",
          "name": "stdout",
          "text": [
            "Hello\n",
            "World\n"
          ]
        }
      ]
    },
    {
      "cell_type": "code",
      "source": [],
      "metadata": {
        "id": "OlTQVoP-GR6b"
      },
      "execution_count": null,
      "outputs": []
    },
    {
      "cell_type": "markdown",
      "source": [
        "###Explain the key features of lists in Python\n",
        "Ans. Lists in Python are versatile and widely used data structures that allow you to store a collection of items. Here are some key features of lists:\n",
        "\n",
        "-Lists maintain the order of elements. When you create a list, the items are stored in the order they are added.\n",
        "\n",
        "-Lists can be modified after creation. You can change, add, or remove elements without creating a new list.\n",
        "\n",
        "-Lists can grow or shrink in size as you add or remove elements. This makes them flexible for various tasks.\n",
        "\n",
        "-Lists can contain elements of different data types (e.g., integers, strings, other lists, etc.).\n",
        "\n",
        "-You can access elements using zero-based indexing and retrieve sublists using slicing.\n",
        "\n",
        "-Lists come with a variety of built-in methods for manipulation, including:\n",
        "append(): Adds an element to the end of the list.\n",
        "extend(): Adds elements from another iterable.\n",
        "insert(): Inserts an element at a specified index.\n",
        "remove(): Removes the first occurrence of a specified value.\n",
        "pop(): Removes and returns an element at a given index (or the last element if no index is specified).\n",
        "sort(): Sorts the list in place.\n",
        "reverse(): Reverses the list in place.\n",
        "\n",
        "-Lists can contain other lists as elements, allowing for the creation of multi-dimensional data structures.\n",
        "\n",
        "-Python supports concise ways to create lists through list comprehensions, which allow you to generate lists using a single line of code."
      ],
      "metadata": {
        "id": "Tn55uyzlGwko"
      }
    },
    {
      "cell_type": "markdown",
      "source": [
        "###Describe how to access, modify, and delete elements in a list with examples\n",
        "Ans. Accessing Elements-\n",
        "You can access elements in a list using their index. Python uses zero-based indexing, meaning the first element is at index 0.\n",
        "\n",
        "Modifying Elements\n",
        "You can modify an element by assigning a new value to a specific index.\n",
        "\n",
        "Deleting Elements\n",
        "You can delete elements using several methods:\n",
        "\n",
        "Using del statement: Deletes an element at a specific index.\n",
        "Using remove() method: Deletes the first occurrence of a specific value.\n",
        "Using pop() method: Removes and returns an element at a specific index (or the last element if no index is specified)."
      ],
      "metadata": {
        "id": "OWd9DKJnHsYl"
      }
    },
    {
      "cell_type": "code",
      "source": [
        "my_list = [10, 20, 30, 40, 50]\n",
        "\n",
        "# Accessing elements\n",
        "first_element = my_list[0]  # 10\n",
        "second_element = my_list[1]  # 20\n",
        "last_element = my_list[-1]    # 50 (negative index counts from the end)\n",
        "\n",
        "print(first_element, second_element, last_element)"
      ],
      "metadata": {
        "colab": {
          "base_uri": "https://localhost:8080/"
        },
        "id": "kgz9qKSyIf_C",
        "outputId": "c3b64798-9115-4cbf-f552-95c357f520ba"
      },
      "execution_count": 4,
      "outputs": [
        {
          "output_type": "stream",
          "name": "stdout",
          "text": [
            "10 20 50\n"
          ]
        }
      ]
    },
    {
      "cell_type": "code",
      "source": [
        "# Modifying elements\n",
        "my_list[1] = 25  # Change the second element from 20 to 25\n",
        "my_list[-1] = 60 # Change the last element from 50 to 60\n",
        "\n",
        "print(my_list)  # [10, 25, 30, 40, 60]"
      ],
      "metadata": {
        "colab": {
          "base_uri": "https://localhost:8080/"
        },
        "id": "eo0Ix52pImCL",
        "outputId": "564e94bd-a4e7-42e4-8619-9059d7729021"
      },
      "execution_count": 6,
      "outputs": [
        {
          "output_type": "stream",
          "name": "stdout",
          "text": [
            "[10, 25, 30, 40, 60]\n"
          ]
        }
      ]
    },
    {
      "cell_type": "code",
      "source": [
        "# Using del statement\n",
        "del my_list[2]  # Remove the element at index 2 (30)\n",
        "print(my_list)   # [10, 25, 40, 60]\n",
        "\n",
        "# Using remove() method\n",
        "my_list.remove(25)  # Remove the first occurrence of value 25\n",
        "print(my_list)       # [10, 40, 60]\n",
        "\n",
        "# Using pop() method\n",
        "popped_element = my_list.pop()  # Remove and return the last element (60)\n",
        "print(my_list)                  # [10, 40]\n",
        "print(popped_element)           # 60"
      ],
      "metadata": {
        "colab": {
          "base_uri": "https://localhost:8080/"
        },
        "id": "px-MG5xpIrUU",
        "outputId": "cac90b6d-56cb-4be4-ff47-192f473dd82d"
      },
      "execution_count": 7,
      "outputs": [
        {
          "output_type": "stream",
          "name": "stdout",
          "text": [
            "[10, 25, 40, 60]\n",
            "[10, 40, 60]\n",
            "[10, 40]\n",
            "60\n"
          ]
        }
      ]
    },
    {
      "cell_type": "markdown",
      "source": [
        "###Compare and contrast tuples and lists with examples\n",
        "Ans.\n",
        "Tuples and lists are both used to store collections of items in Python, but they have distinct characteristics and use cases.\n",
        "\n",
        "- Lists are mutable while tuples are immutable.\n",
        "- Lists are defined with square brackets []\twhile tuples are defined with parentheses ()\n",
        "- Lists have many built-in methods (e.g., append(), remove()) while tuples have\tfewer built-in methods (e.g., count(), index()).\n",
        "- lists are ideal for collections of items that may change while tuples are\tideal for fixed collections of items (e.g., coordinates, constants)\n",
        "\n",
        "For ex -"
      ],
      "metadata": {
        "id": "AOjZ_w05I36u"
      }
    },
    {
      "cell_type": "code",
      "source": [
        "# Creating a list\n",
        "my_list = [1, 2, 3, 'four', 5.0]\n",
        "print(my_list)  # Output: [1, 2, 3, 'four', 5.0]\n",
        "\n",
        "# Creating a tuple\n",
        "my_tuple = (1, 2, 3, 'four', 5.0)\n",
        "print(my_tuple)  # Output: (1, 2, 3, 'four', 5.0)"
      ],
      "metadata": {
        "colab": {
          "base_uri": "https://localhost:8080/"
        },
        "id": "FutdY6imKBBP",
        "outputId": "9d9caee0-94aa-4093-94c8-72c823a03c72"
      },
      "execution_count": 8,
      "outputs": [
        {
          "output_type": "stream",
          "name": "stdout",
          "text": [
            "[1, 2, 3, 'four', 5.0]\n",
            "(1, 2, 3, 'four', 5.0)\n"
          ]
        }
      ]
    },
    {
      "cell_type": "code",
      "source": [
        "my_list[1] = 0\n",
        "my_list"
      ],
      "metadata": {
        "colab": {
          "base_uri": "https://localhost:8080/"
        },
        "id": "NHIFxPw8KOIR",
        "outputId": "24920d5d-a76a-4aa3-adf8-188323a62009"
      },
      "execution_count": 12,
      "outputs": [
        {
          "output_type": "execute_result",
          "data": {
            "text/plain": [
              "[1, 0, 3, 'four', 5.0]"
            ]
          },
          "metadata": {},
          "execution_count": 12
        }
      ]
    },
    {
      "cell_type": "code",
      "source": [
        "my_tuple(2) = 4\n",
        "my_tuple"
      ],
      "metadata": {
        "colab": {
          "base_uri": "https://localhost:8080/",
          "height": 106
        },
        "id": "xJaAUI4dKcc8",
        "outputId": "eb154c49-8d8f-4b3b-e191-1fe7e792206f"
      },
      "execution_count": 13,
      "outputs": [
        {
          "output_type": "error",
          "ename": "SyntaxError",
          "evalue": "cannot assign to function call here. Maybe you meant '==' instead of '='? (<ipython-input-13-0bcaf27a65c4>, line 1)",
          "traceback": [
            "\u001b[0;36m  File \u001b[0;32m\"<ipython-input-13-0bcaf27a65c4>\"\u001b[0;36m, line \u001b[0;32m1\u001b[0m\n\u001b[0;31m    my_tuple(2) = 4\u001b[0m\n\u001b[0m    ^\u001b[0m\n\u001b[0;31mSyntaxError\u001b[0m\u001b[0;31m:\u001b[0m cannot assign to function call here. Maybe you meant '==' instead of '='?\n"
          ]
        }
      ]
    },
    {
      "cell_type": "markdown",
      "source": [
        "###Describe the key features of sets and provide examples of their use.\n",
        "Ans. Sets are a built-in data structure in Python that represent an unordered collection of unique items. Here are the key features of sets, along with examples of their use:\n",
        "\n",
        "- Unordered: Sets do not maintain the order of elements. The items may appear in a different order every time you access the set.\n",
        "\n",
        "- Unique Elements: Sets automatically remove duplicate values. Each element can only appear once in a set.\n",
        "\n",
        "- Mutable: You can add or remove elements from a set after it has been created.\n",
        "\n",
        "- Dynamic Size: Sets can grow or shrink in size as elements are added or removed.\n",
        "\n",
        "- Built-in Methods: Sets provide a variety of methods for common operations, such as union, intersection, difference, and subset checks.\n",
        "\n",
        "- No Indexing: Since sets are unordered, you cannot access elements by index.\n",
        "\n"
      ],
      "metadata": {
        "id": "FNdgOeImK239"
      }
    },
    {
      "cell_type": "code",
      "source": [
        "# Creating a set with duplicate values\n",
        "my_set_with_duplicates = {1, 2, 2, 3}\n",
        "print(my_set_with_duplicates)  # Output: {1, 2, 3} (duplicates removed)\n"
      ],
      "metadata": {
        "colab": {
          "base_uri": "https://localhost:8080/"
        },
        "id": "vrJa8CtDLhqM",
        "outputId": "68f9612c-384d-44d6-aaf9-b0e2404e4e32"
      },
      "execution_count": 14,
      "outputs": [
        {
          "output_type": "stream",
          "name": "stdout",
          "text": [
            "{1, 2, 3}\n"
          ]
        }
      ]
    },
    {
      "cell_type": "code",
      "source": [
        "my_set = {1,2,3,4,5}\n",
        "# Adding elements\n",
        "my_set.add(6)\n",
        "print(my_set)  # Output: {1, 2, 3, 4, 5, 6}\n",
        "\n",
        "# Removing elements\n",
        "my_set.remove(2)  # Raises KeyError if 2 is not in the set\n",
        "print(my_set)     # Output: {1, 3, 4, 5, 6}\n"
      ],
      "metadata": {
        "colab": {
          "base_uri": "https://localhost:8080/"
        },
        "id": "t9nnFwmFLrrj",
        "outputId": "00ed427b-21e2-44e6-cd6f-ea708a293b74"
      },
      "execution_count": 16,
      "outputs": [
        {
          "output_type": "stream",
          "name": "stdout",
          "text": [
            "{1, 2, 3, 4, 5, 6}\n",
            "{1, 3, 4, 5, 6}\n"
          ]
        }
      ]
    },
    {
      "cell_type": "markdown",
      "source": [
        "###Discuss the use cases of tuples and sets in Python programming\n",
        "Ans.Tuples - Ordered, immutable collections of elements, similar to lists. However, once created, the items in a tuple cannot be changed. They provide a secure way to store data that shouldn't be modified.\n",
        "Operations: You can access elements using indexing and slicing, but you cannot modify the content. Tuples are useful for representing fixed datasets or configurations.\n",
        "\n",
        "Sets -  Unordered collections of unique elements. The order doesn't matter, and duplicate entries are not allowed. Sets are useful for checking membership (if an item exists) or finding the intersection/difference between sets.\n",
        "Operations: You can add or remove elements from a set, but you cannot access elements by index (since order doesn't matter). Set operations like union (combining elements), intersection (finding common elements), and difference (finding elements in one set but not the other) are efficient."
      ],
      "metadata": {
        "id": "YCGQ0MLYMBdD"
      }
    },
    {
      "cell_type": "code",
      "source": [
        "# Creating a tuple\n",
        "my_tuple = (1, 2, 3, 'four', 5.0)\n",
        "print(my_tuple)  # Output: (1, 2, 3, 'four', 5.0)"
      ],
      "metadata": {
        "colab": {
          "base_uri": "https://localhost:8080/"
        },
        "id": "s7BjO5cAMxsB",
        "outputId": "e8ae0ef8-efc6-4739-94fd-a8f76b2daf34"
      },
      "execution_count": 17,
      "outputs": [
        {
          "output_type": "stream",
          "name": "stdout",
          "text": [
            "(1, 2, 3, 'four', 5.0)\n"
          ]
        }
      ]
    },
    {
      "cell_type": "code",
      "source": [
        "my_tuple = (1, 2, 3, 'four', 5.0)\n",
        "my_tuple[2] = 4\n",
        "my_tuple"
      ],
      "metadata": {
        "colab": {
          "base_uri": "https://localhost:8080/",
          "height": 176
        },
        "id": "QTfUNbUPNEnx",
        "outputId": "1aecc40d-b3b0-47ea-f6bb-d6ae465cef76"
      },
      "execution_count": 21,
      "outputs": [
        {
          "output_type": "error",
          "ename": "TypeError",
          "evalue": "'tuple' object does not support item assignment",
          "traceback": [
            "\u001b[0;31m---------------------------------------------------------------------------\u001b[0m",
            "\u001b[0;31mTypeError\u001b[0m                                 Traceback (most recent call last)",
            "\u001b[0;32m<ipython-input-21-d9c30cca6502>\u001b[0m in \u001b[0;36m<cell line: 2>\u001b[0;34m()\u001b[0m\n\u001b[1;32m      1\u001b[0m \u001b[0mmy_tuple\u001b[0m \u001b[0;34m=\u001b[0m \u001b[0;34m(\u001b[0m\u001b[0;36m1\u001b[0m\u001b[0;34m,\u001b[0m \u001b[0;36m2\u001b[0m\u001b[0;34m,\u001b[0m \u001b[0;36m3\u001b[0m\u001b[0;34m,\u001b[0m \u001b[0;34m'four'\u001b[0m\u001b[0;34m,\u001b[0m \u001b[0;36m5.0\u001b[0m\u001b[0;34m)\u001b[0m\u001b[0;34m\u001b[0m\u001b[0;34m\u001b[0m\u001b[0m\n\u001b[0;32m----> 2\u001b[0;31m \u001b[0mmy_tuple\u001b[0m\u001b[0;34m[\u001b[0m\u001b[0;36m2\u001b[0m\u001b[0;34m]\u001b[0m \u001b[0;34m=\u001b[0m \u001b[0;36m4\u001b[0m\u001b[0;34m\u001b[0m\u001b[0;34m\u001b[0m\u001b[0m\n\u001b[0m\u001b[1;32m      3\u001b[0m \u001b[0mmy_tuple\u001b[0m\u001b[0;34m\u001b[0m\u001b[0;34m\u001b[0m\u001b[0m\n",
            "\u001b[0;31mTypeError\u001b[0m: 'tuple' object does not support item assignment"
          ]
        }
      ]
    },
    {
      "cell_type": "code",
      "source": [
        "# Creating a set with duplicate values\n",
        "my_set_with_duplicates = {1, 2, 2, 3, 3, 3, 4, 4}\n",
        "print(my_set_with_duplicates)\n"
      ],
      "metadata": {
        "colab": {
          "base_uri": "https://localhost:8080/"
        },
        "id": "Gt4-AVeyNKxU",
        "outputId": "2934062a-61a1-4e4b-90e8-69a4f6bc18d8"
      },
      "execution_count": 22,
      "outputs": [
        {
          "output_type": "stream",
          "name": "stdout",
          "text": [
            "{1, 2, 3, 4}\n"
          ]
        }
      ]
    },
    {
      "cell_type": "markdown",
      "source": [
        "###Describe how to add, modify, and delete items in a dictionary with examples\n",
        "Ans. Dictionaries in Python are mutable data structures that store key-value pairs. Here’s how to add, modify, and delete items in a dictionary, along with examples.\n",
        "\n",
        "Adding Items -\n",
        "You can add new items to a dictionary by assigning a value to a new key.\n",
        "\n",
        "Example:"
      ],
      "metadata": {
        "id": "zhyq2V_eN9h8"
      }
    },
    {
      "cell_type": "code",
      "source": [
        "# Creating a dictionary\n",
        "my_dict = {'name': 'Alice', 'age': 30}\n",
        "\n",
        "# Adding a new key-value pair\n",
        "my_dict['city'] = 'New York'\n",
        "\n",
        "print(my_dict)"
      ],
      "metadata": {
        "colab": {
          "base_uri": "https://localhost:8080/"
        },
        "id": "JcInxOKCN3Iq",
        "outputId": "6199f4e4-50cb-48c5-db10-079dc7121641"
      },
      "execution_count": 23,
      "outputs": [
        {
          "output_type": "stream",
          "name": "stdout",
          "text": [
            "{'name': 'Alice', 'age': 30, 'city': 'New York'}\n"
          ]
        }
      ]
    },
    {
      "cell_type": "markdown",
      "source": [
        "Modifying Items -\n",
        "To modify an existing item, simply assign a new value to the existing key.\n",
        "\n",
        "Example:"
      ],
      "metadata": {
        "id": "hGK7kvpWOOeu"
      }
    },
    {
      "cell_type": "code",
      "source": [
        "# Modifying an existing value\n",
        "my_dict['age'] = 31  # Update age\n",
        "\n",
        "print(my_dict)"
      ],
      "metadata": {
        "colab": {
          "base_uri": "https://localhost:8080/"
        },
        "id": "7OmrNH82OZu1",
        "outputId": "36c0d94a-ede3-4300-85fb-d5216c7744f1"
      },
      "execution_count": 24,
      "outputs": [
        {
          "output_type": "stream",
          "name": "stdout",
          "text": [
            "{'name': 'Alice', 'age': 31, 'city': 'New York'}\n"
          ]
        }
      ]
    },
    {
      "cell_type": "markdown",
      "source": [
        "\n",
        "Deleting Items -\n",
        "You can delete items from a dictionary using several methods:\n",
        "\n",
        "- Using the del statement: This removes an item based on its key.\n",
        "- Using the pop() method: This removes an item and returns its value.\n",
        "- Using the popitem() method: This removes and returns the last inserted key-value pair.\n",
        "---\n",
        "\n"
      ],
      "metadata": {
        "id": "CywggE-VOdwR"
      }
    },
    {
      "cell_type": "code",
      "source": [
        "# Deleting an item using del\n",
        "del my_dict['city']\n",
        "\n",
        "print(my_dict)"
      ],
      "metadata": {
        "colab": {
          "base_uri": "https://localhost:8080/"
        },
        "id": "szq1097WOk4h",
        "outputId": "99bd175f-a03d-4eca-8ee1-4ca3c31178da"
      },
      "execution_count": 25,
      "outputs": [
        {
          "output_type": "stream",
          "name": "stdout",
          "text": [
            "{'name': 'Alice', 'age': 31}\n"
          ]
        }
      ]
    },
    {
      "cell_type": "code",
      "source": [],
      "metadata": {
        "id": "SM00FT7XO1gO"
      },
      "execution_count": null,
      "outputs": []
    },
    {
      "cell_type": "markdown",
      "source": [
        "###Discuss the importance of dictionary keys being immutable and provide examples\n",
        "Ans.\n",
        "\n",
        "In Python, dictionary keys must be immutable data types. This is important because it ensures that the keys remain constant throughout the lifetime of the dictionary. Dictionary keys are stored in a hash table. For a key to be stored in a hash table, it must be hashable, meaning its hash value must not change during its lifetime. This property is guaranteed by using immutable types. moreover, If keys were mutable, their hash values could change, leading to unpredictable behavior when retrieving values. This could break the internal structure of the dictionary, making it impossible to access values correctly."
      ],
      "metadata": {
        "id": "hPk67W66O2lv"
      }
    },
    {
      "cell_type": "code",
      "source": [
        "my_dict = {'name': 'Alice', 'age': 30}\n",
        "print(my_dict['name'])"
      ],
      "metadata": {
        "colab": {
          "base_uri": "https://localhost:8080/"
        },
        "id": "bHEBa0aoPkXf",
        "outputId": "bd4c8690-537a-4b6b-8b9b-2fac6215b236"
      },
      "execution_count": 26,
      "outputs": [
        {
          "output_type": "stream",
          "name": "stdout",
          "text": [
            "Alice\n"
          ]
        }
      ]
    },
    {
      "cell_type": "code",
      "source": [
        "my_dict = {'name': 'Alice', 'age': 30}\n",
        "my_dict['name'] = 'place'\n",
        "print(my_dict['place']) #hence immutable"
      ],
      "metadata": {
        "colab": {
          "base_uri": "https://localhost:8080/",
          "height": 176
        },
        "id": "SvpeqrXtPsSd",
        "outputId": "a801e640-af28-4259-85fd-f81162a993b0"
      },
      "execution_count": 29,
      "outputs": [
        {
          "output_type": "error",
          "ename": "KeyError",
          "evalue": "'place'",
          "traceback": [
            "\u001b[0;31m---------------------------------------------------------------------------\u001b[0m",
            "\u001b[0;31mKeyError\u001b[0m                                  Traceback (most recent call last)",
            "\u001b[0;32m<ipython-input-29-f88e0f53b0ff>\u001b[0m in \u001b[0;36m<cell line: 3>\u001b[0;34m()\u001b[0m\n\u001b[1;32m      1\u001b[0m \u001b[0mmy_dict\u001b[0m \u001b[0;34m=\u001b[0m \u001b[0;34m{\u001b[0m\u001b[0;34m'name'\u001b[0m\u001b[0;34m:\u001b[0m \u001b[0;34m'Alice'\u001b[0m\u001b[0;34m,\u001b[0m \u001b[0;34m'age'\u001b[0m\u001b[0;34m:\u001b[0m \u001b[0;36m30\u001b[0m\u001b[0;34m}\u001b[0m\u001b[0;34m\u001b[0m\u001b[0;34m\u001b[0m\u001b[0m\n\u001b[1;32m      2\u001b[0m \u001b[0mmy_dict\u001b[0m\u001b[0;34m[\u001b[0m\u001b[0;34m'name'\u001b[0m\u001b[0;34m]\u001b[0m \u001b[0;34m=\u001b[0m \u001b[0;34m'place'\u001b[0m\u001b[0;34m\u001b[0m\u001b[0;34m\u001b[0m\u001b[0m\n\u001b[0;32m----> 3\u001b[0;31m \u001b[0mprint\u001b[0m\u001b[0;34m(\u001b[0m\u001b[0mmy_dict\u001b[0m\u001b[0;34m[\u001b[0m\u001b[0;34m'place'\u001b[0m\u001b[0;34m]\u001b[0m\u001b[0;34m)\u001b[0m\u001b[0;34m\u001b[0m\u001b[0;34m\u001b[0m\u001b[0m\n\u001b[0m",
            "\u001b[0;31mKeyError\u001b[0m: 'place'"
          ]
        }
      ]
    },
    {
      "cell_type": "code",
      "source": [],
      "metadata": {
        "id": "wFNInzJvP5Sx"
      },
      "execution_count": null,
      "outputs": []
    }
  ]
}