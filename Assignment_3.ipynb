{
  "nbformat": 4,
  "nbformat_minor": 0,
  "metadata": {
    "colab": {
      "provenance": []
    },
    "kernelspec": {
      "name": "python3",
      "display_name": "Python 3"
    },
    "language_info": {
      "name": "python"
    }
  },
  "cells": [
    {
      "cell_type": "code",
      "execution_count": null,
      "metadata": {
        "id": "kkCPhhz_f4qx"
      },
      "outputs": [],
      "source": []
    },
    {
      "cell_type": "markdown",
      "source": [
        "#Theoretical questions"
      ],
      "metadata": {
        "id": "JXO4wTUytCXP"
      }
    },
    {
      "cell_type": "markdown",
      "source": [
        "###1. What is the difference between a function and a method in Python?\n",
        "Ans.\n",
        "- A function is a block of reusable code that performs a specific task. It can take arguments and return a value.\n",
        "- A method is similar to a function, but it is associated with an object (usually an instance of a class). It operates on the data contained within the object."
      ],
      "metadata": {
        "id": "Z2heqD-Ff5or"
      }
    },
    {
      "cell_type": "code",
      "source": [
        "def my_function(x):\n",
        "    return x * 2\n",
        "\n",
        "result = my_function(5)\n",
        "print(result)"
      ],
      "metadata": {
        "colab": {
          "base_uri": "https://localhost:8080/"
        },
        "id": "huVQbGZ4gn72",
        "outputId": "0a0ffe4b-7648-427c-c689-c057abbe9cb3"
      },
      "execution_count": 1,
      "outputs": [
        {
          "output_type": "stream",
          "name": "stdout",
          "text": [
            "10\n"
          ]
        }
      ]
    },
    {
      "cell_type": "markdown",
      "source": [
        "###2. Explain the concept of function arguments and parameters in Python.\n",
        "Parameters are the variables defined in the function signature. They act as placeholders for the values that will be passed to the function when it is called.Parameters are listed in the parentheses of the function definition.\n",
        "\n",
        "Arguments are the actual values you pass to the function when you call it. They replace the parameters defined in the function signature.Arguments are provided in the parentheses during the function call."
      ],
      "metadata": {
        "id": "vasZBQvZgXZm"
      }
    },
    {
      "cell_type": "code",
      "source": [
        "def greet(name):     # name is parameter\n",
        "    print(\"Hello\", name)\n",
        "greet(\"Shuhul\")      #\"Shuhul\" is args."
      ],
      "metadata": {
        "colab": {
          "base_uri": "https://localhost:8080/"
        },
        "id": "mx9oiboHhPqB",
        "outputId": "9820ce73-7565-46e9-aabd-8399b2f6b6d2"
      },
      "execution_count": 3,
      "outputs": [
        {
          "output_type": "stream",
          "name": "stdout",
          "text": [
            "Hello Shuhul\n"
          ]
        }
      ]
    },
    {
      "cell_type": "code",
      "source": [],
      "metadata": {
        "id": "qhJ_5NPYhTaJ"
      },
      "execution_count": null,
      "outputs": []
    },
    {
      "cell_type": "markdown",
      "source": [
        "###3. What are the different ways to define and call a function in Python?\n",
        "\n",
        ":- There are two main ways to define and call a function in Python:\n",
        "1) basic function definition and call\n",
        "2) Function with Parameters and Arguments\n",
        "3) lambda function.\n",
        "4) nested function definition and call.\n",
        "5) function definition with default parameters\n",
        "6) function definition with variable length args.\n",
        "7) generator function etc.\n"
      ],
      "metadata": {
        "id": "iUImgS3XhWyj"
      }
    },
    {
      "cell_type": "code",
      "source": [
        "def func1(b,a=46):\n",
        "    return a+b\n",
        "print(func1(24))"
      ],
      "metadata": {
        "colab": {
          "base_uri": "https://localhost:8080/"
        },
        "id": "JzaAo2WFhhuo",
        "outputId": "1af97d04-d0a2-490c-cee1-78697d50578e"
      },
      "execution_count": 4,
      "outputs": [
        {
          "output_type": "stream",
          "name": "stdout",
          "text": [
            "70\n"
          ]
        }
      ]
    },
    {
      "cell_type": "code",
      "source": [],
      "metadata": {
        "id": "M3ccfF8PhroL"
      },
      "execution_count": null,
      "outputs": []
    },
    {
      "cell_type": "markdown",
      "source": [
        "###4. What is the purpose of the `return` statement in a Python function?\n",
        "\n",
        ":- The primary purpose of the return statement is to send a value back to the caller of the function. This allows the function to produce results that can be used elsewhere in the program."
      ],
      "metadata": {
        "id": "Ae63OGl5hyly"
      }
    },
    {
      "cell_type": "code",
      "source": [
        "def add(a, b):\n",
        "    return a + b\n",
        "\n",
        "result = add(3, 5)\n",
        "print(result)\n"
      ],
      "metadata": {
        "colab": {
          "base_uri": "https://localhost:8080/"
        },
        "id": "BtF17O9NiP3f",
        "outputId": "26cc417a-f33d-46ba-e609-a4fb5c97b55c"
      },
      "execution_count": 5,
      "outputs": [
        {
          "output_type": "stream",
          "name": "stdout",
          "text": [
            "8\n"
          ]
        }
      ]
    },
    {
      "cell_type": "code",
      "source": [],
      "metadata": {
        "id": "eUAe2q7siZLJ"
      },
      "execution_count": null,
      "outputs": []
    },
    {
      "cell_type": "markdown",
      "source": [
        "###5. What are iterators in Python and how do they differ from iterables?\n",
        "\n",
        ":- Iterators are objects that can be iterated over iterables using the `for` loop.  Iterators are implemented using the `__iter__()` and `__next__()` methods.\n",
        "\n",
        "\n",
        "- The main difference between iterators and iterables is that an iterator can be iterated over only once, while an iterable can be iterated over multiple times.\n",
        "we can access the elements of interable one by one  using iterator thats why it doesn't require that much memory and it could be faster.\n",
        "\n"
      ],
      "metadata": {
        "id": "397jNwJxihqg"
      }
    },
    {
      "cell_type": "code",
      "source": [
        "l=[7,4,8,4,2,\"Shuhul\"]\n",
        "a=iter(l)\n",
        "next(a)\n",
        "next(a)\n",
        "next(a)\n",
        "next(a)\n",
        "next(a)\n",
        "next(a)"
      ],
      "metadata": {
        "colab": {
          "base_uri": "https://localhost:8080/",
          "height": 36
        },
        "id": "ynOLRn4giTUf",
        "outputId": "cca9648f-035c-4391-be55-13700b096b4d"
      },
      "execution_count": 9,
      "outputs": [
        {
          "output_type": "execute_result",
          "data": {
            "text/plain": [
              "'Shuhul'"
            ],
            "application/vnd.google.colaboratory.intrinsic+json": {
              "type": "string"
            }
          },
          "metadata": {},
          "execution_count": 9
        }
      ]
    },
    {
      "cell_type": "code",
      "source": [],
      "metadata": {
        "id": "9hUjCFtAiswx"
      },
      "execution_count": null,
      "outputs": []
    },
    {
      "cell_type": "markdown",
      "source": [
        "###6. Explain the concept of generators in Python and how they are defined.\n",
        "\n",
        ":- Generators are a type of iterable, like lists or tuples.  They can be iterated over with for loops. Generators are created using the `yield` keyword instead of `return`.\n",
        "\n",
        "- Generators are a great way to create iterators because they do not store all the values in memory. Instead, they generate each value on the fly.It just gives a single value at a time unlike a regular looping on iterable thats why it is used for the big databases like for millions of elements which require a large memory .\n",
        "\n"
      ],
      "metadata": {
        "id": "bx6pc0moi6sR"
      }
    },
    {
      "cell_type": "code",
      "source": [
        "def sq_no(n):\n",
        "  for i in range(n):\n",
        "    yield i**2\n",
        "\n",
        "x=sq_no(10)\n",
        "next(x)\n",
        "next(x)\n",
        "next(x)\n",
        "next(x)\n",
        ""
      ],
      "metadata": {
        "colab": {
          "base_uri": "https://localhost:8080/"
        },
        "id": "274n68_QjpK3",
        "outputId": "d6938493-7fab-454f-c918-e880ae455ba3"
      },
      "execution_count": 21,
      "outputs": [
        {
          "output_type": "execute_result",
          "data": {
            "text/plain": [
              "9"
            ]
          },
          "metadata": {},
          "execution_count": 21
        }
      ]
    },
    {
      "cell_type": "code",
      "source": [],
      "metadata": {
        "id": "Rpnd4v9Hj1cn"
      },
      "execution_count": null,
      "outputs": []
    },
    {
      "cell_type": "markdown",
      "source": [
        "###7. What are the advantages of using generators over regular functions?\n",
        "\n",
        "1) Memory Efficiency – No need to store entire sequences in memory.\n",
        "2) Improved Performance – Faster execution as values are generated on the fly.\n",
        "3) Maintainability – Cleaner and more readable code, especially for complex or infinite sequences."
      ],
      "metadata": {
        "id": "qLg74oWMlLsX"
      }
    },
    {
      "cell_type": "code",
      "source": [
        "def sq_no(n):\n",
        "  for i in range(n):\n",
        "    yield i**2\n",
        "\n",
        "x=sq_no(10)\n",
        "next(x)\n",
        "next(x)\n",
        "next(x)"
      ],
      "metadata": {
        "colab": {
          "base_uri": "https://localhost:8080/"
        },
        "id": "VjRaPr1KlWSW",
        "outputId": "e5ac7afd-b287-4012-f3f7-2601a19a299f"
      },
      "execution_count": 22,
      "outputs": [
        {
          "output_type": "execute_result",
          "data": {
            "text/plain": [
              "4"
            ]
          },
          "metadata": {},
          "execution_count": 22
        }
      ]
    },
    {
      "cell_type": "code",
      "source": [],
      "metadata": {
        "id": "vmEedqw0lb6E"
      },
      "execution_count": null,
      "outputs": []
    },
    {
      "cell_type": "markdown",
      "source": [
        "###8. What is a lambda function in Python and when is it typically used?\n",
        "\n",
        ":- A lambda function is a anonymous function  that can take any number of arguments but have a single expression which is benefitial for small problems .\n",
        "\n",
        "it is typically used for small problems or where the number of expression is only one and it can also be used under a function and we can assign is with a variable too."
      ],
      "metadata": {
        "id": "3Z8OrddzldsB"
      }
    },
    {
      "cell_type": "code",
      "source": [
        "is_even = lambda x: x%2 == 0\n",
        "print(is_even(8))"
      ],
      "metadata": {
        "colab": {
          "base_uri": "https://localhost:8080/"
        },
        "id": "c_IDcl70llZg",
        "outputId": "e385c3ff-37de-484c-c3b9-7bc1b175df4b"
      },
      "execution_count": 28,
      "outputs": [
        {
          "output_type": "stream",
          "name": "stdout",
          "text": [
            "True\n"
          ]
        }
      ]
    },
    {
      "cell_type": "code",
      "source": [],
      "metadata": {
        "id": "8FBjggyOl4FR"
      },
      "execution_count": null,
      "outputs": []
    },
    {
      "cell_type": "markdown",
      "source": [
        "###9. Explain the purpose and usage of the `map()` function in Python.\n",
        "\n",
        "\n",
        ":- we use 'map()' function so that we can execute a specified function for each item of an iterable"
      ],
      "metadata": {
        "id": "XMYOSYAhmnJb"
      }
    },
    {
      "cell_type": "code",
      "source": [
        "l = [1, 2, 3, 4, 5]\n",
        "a=map(lambda x: x**2,l)\n",
        "list(a)"
      ],
      "metadata": {
        "colab": {
          "base_uri": "https://localhost:8080/"
        },
        "id": "LqE9Q9RumtNu",
        "outputId": "7d9caec5-20f6-4a16-c724-4d038d5209f9"
      },
      "execution_count": 31,
      "outputs": [
        {
          "output_type": "execute_result",
          "data": {
            "text/plain": [
              "[1, 4, 9, 16, 25]"
            ]
          },
          "metadata": {},
          "execution_count": 31
        }
      ]
    },
    {
      "cell_type": "code",
      "source": [],
      "metadata": {
        "id": "ToP9er3LnFfx"
      },
      "execution_count": null,
      "outputs": []
    },
    {
      "cell_type": "markdown",
      "source": [
        "###10. What is the difference between `map()`, `reduce()`, and `filter()` functions in Python?\n",
        "\n",
        ":- 'map()' function applies a given function to all items of an input list returns the output as a list.\n",
        "\n",
        "- 'reduce()' function applies a given function to all items of an input list in a pair like the first and 2nd elements and then the output of first two with third  and returns a single output.\n",
        "\n",
        "- 'filter()' function applies a given function to all items of an input list and returns a list of those items for which the function returns 'True'."
      ],
      "metadata": {
        "id": "-sbOFVq3nd8A"
      }
    },
    {
      "cell_type": "code",
      "source": [
        "from functools import reduce as r\n",
        "l=[1, 2, 3, 4, 5]\n",
        "\n",
        "a=map(lambda x: x*2,l)\n",
        "print(list(a))\n",
        "\n",
        "b=r(lambda x,y: x+y,l)\n",
        "print(b)\n",
        "\n",
        "c=filter(lambda x: x%2==0,l)\n",
        "print(list(c))"
      ],
      "metadata": {
        "colab": {
          "base_uri": "https://localhost:8080/"
        },
        "id": "dpDAzj9cnh5o",
        "outputId": "242869eb-0904-461f-c19b-333923adb73e"
      },
      "execution_count": 32,
      "outputs": [
        {
          "output_type": "stream",
          "name": "stdout",
          "text": [
            "[2, 4, 6, 8, 10]\n",
            "15\n",
            "[2, 4]\n"
          ]
        }
      ]
    },
    {
      "cell_type": "code",
      "source": [],
      "metadata": {
        "id": "ACvs97L3nucN"
      },
      "execution_count": null,
      "outputs": []
    },
    {
      "cell_type": "markdown",
      "source": [
        "#PRACTICAL QUESTIONS"
      ],
      "metadata": {
        "id": "QT2Le6zDnwQ6"
      }
    },
    {
      "cell_type": "markdown",
      "source": [
        "###1. Write a Python function that takes a list of numbers as input and returns the sum of all even numbers in the list.\n"
      ],
      "metadata": {
        "id": "xReDLjahn7lt"
      }
    },
    {
      "cell_type": "code",
      "source": [
        "l=list(map(int, input(\"Enter numbers separated by spaces: \").split()))\n",
        "def even_sum():\n",
        "    a=filter(lambda x:  x%2==0 , l)\n",
        "    return sum(a)\n",
        "print(even_sum())"
      ],
      "metadata": {
        "colab": {
          "base_uri": "https://localhost:8080/"
        },
        "id": "YrRC3R8LoAG_",
        "outputId": "9607d583-36d0-4661-bf7d-52d7812b8660"
      },
      "execution_count": 33,
      "outputs": [
        {
          "output_type": "stream",
          "name": "stdout",
          "text": [
            "Enter numbers separated by spaces: 5 2\n",
            "2\n"
          ]
        }
      ]
    },
    {
      "cell_type": "code",
      "source": [
        "l=list(map(int, input(\"Enter numbers separated by spaces: \").split()))\n",
        "def even_sum():\n",
        "    s=0\n",
        "    for i in l:\n",
        "        if i%2==0:\n",
        "            s+=i\n",
        "    return s\n",
        "print(even_sum())"
      ],
      "metadata": {
        "colab": {
          "base_uri": "https://localhost:8080/"
        },
        "id": "ceREDKYoo3DV",
        "outputId": "aca11de6-c48f-4f1d-dd4c-125f8efebe8b"
      },
      "execution_count": 34,
      "outputs": [
        {
          "output_type": "stream",
          "name": "stdout",
          "text": [
            "Enter numbers separated by spaces: 5 2 25 28 52 \n",
            "82\n"
          ]
        }
      ]
    },
    {
      "cell_type": "code",
      "source": [],
      "metadata": {
        "id": "DihD5xTBptTA"
      },
      "execution_count": null,
      "outputs": []
    },
    {
      "cell_type": "markdown",
      "source": [
        "###2. Create a Python function that accepts a string and returns the reverse of that string."
      ],
      "metadata": {
        "id": "nESb8w3Lpza4"
      }
    },
    {
      "cell_type": "code",
      "source": [
        "def rev_str(s):\n",
        "    return s[::-1]\n",
        "\n",
        "a=input(\"enter a str: \")\n",
        "rev_str(a)"
      ],
      "metadata": {
        "colab": {
          "base_uri": "https://localhost:8080/",
          "height": 53
        },
        "id": "FHkC0RLOp4iA",
        "outputId": "e1dffb1a-5fc3-472d-a533-2deb28d73474"
      },
      "execution_count": 36,
      "outputs": [
        {
          "name": "stdout",
          "output_type": "stream",
          "text": [
            "enter a str: 5 5 0 8\n"
          ]
        },
        {
          "output_type": "execute_result",
          "data": {
            "text/plain": [
              "'8 0 5 5'"
            ],
            "application/vnd.google.colaboratory.intrinsic+json": {
              "type": "string"
            }
          },
          "metadata": {},
          "execution_count": 36
        }
      ]
    },
    {
      "cell_type": "code",
      "source": [],
      "metadata": {
        "id": "r3RK618lp6zY"
      },
      "execution_count": 36,
      "outputs": []
    },
    {
      "cell_type": "markdown",
      "source": [],
      "metadata": {
        "id": "bQ_LOHEiqGU0"
      }
    },
    {
      "cell_type": "markdown",
      "source": [
        "###3. Implement a Python function that takes a list of integers and returns a new list containing the squares of each number."
      ],
      "metadata": {
        "id": "rQIsJAcwqKHK"
      }
    },
    {
      "cell_type": "code",
      "source": [
        "l=list(map(int,input(\"give the number : \").split()))\n",
        "\n",
        "a=map(lambda x: x**2,l )\n",
        "list(a)"
      ],
      "metadata": {
        "colab": {
          "base_uri": "https://localhost:8080/"
        },
        "id": "PWhu8wokqPQl",
        "outputId": "62da1406-86f2-4134-828d-1e8bc8433740"
      },
      "execution_count": 38,
      "outputs": [
        {
          "name": "stdout",
          "output_type": "stream",
          "text": [
            "give the number : 5 6 7 8\n"
          ]
        },
        {
          "output_type": "execute_result",
          "data": {
            "text/plain": [
              "[25, 36, 49, 64]"
            ]
          },
          "metadata": {},
          "execution_count": 38
        }
      ]
    },
    {
      "cell_type": "code",
      "source": [],
      "metadata": {
        "id": "1YCHbw0AqTi5"
      },
      "execution_count": null,
      "outputs": []
    },
    {
      "cell_type": "markdown",
      "source": [
        "###4. Write a Python function that checks if a given number is prime or not from 1 to 200."
      ],
      "metadata": {
        "id": "h-qcn1QQqcku"
      }
    },
    {
      "cell_type": "code",
      "source": [
        "def is_prime(n):\n",
        "    if n<=1:\n",
        "        return False\n",
        "    for i in range (2,int(n/2)+1):\n",
        "        if n%i==0:\n",
        "            return False\n",
        "\n",
        "    return True\n",
        "\n",
        "b=[num for num in range(1,201) if is_prime(num)]\n",
        "print(b)\n",
        "\n"
      ],
      "metadata": {
        "colab": {
          "base_uri": "https://localhost:8080/"
        },
        "id": "xAGUf5AKqg0I",
        "outputId": "4f9dd675-841c-4bb3-d399-6098bdd2f18b"
      },
      "execution_count": 39,
      "outputs": [
        {
          "output_type": "stream",
          "name": "stdout",
          "text": [
            "[2, 3, 5, 7, 11, 13, 17, 19, 23, 29, 31, 37, 41, 43, 47, 53, 59, 61, 67, 71, 73, 79, 83, 89, 97, 101, 103, 107, 109, 113, 127, 131, 137, 139, 149, 151, 157, 163, 167, 173, 179, 181, 191, 193, 197, 199]\n"
          ]
        }
      ]
    },
    {
      "cell_type": "code",
      "source": [],
      "metadata": {
        "id": "-eCtn35vqk9L"
      },
      "execution_count": null,
      "outputs": []
    },
    {
      "cell_type": "markdown",
      "source": [
        "###5. Create an iterator class in Python that generates the Fibonacci sequence up to a specified number of terms."
      ],
      "metadata": {
        "id": "dbTvmIyzqmOE"
      }
    },
    {
      "cell_type": "code",
      "source": [
        "def fibonacci(n):\n",
        "    a, b = 0, 1\n",
        "    for i in range(n):\n",
        "        yield a\n",
        "        a, b = b, a + b\n",
        "\n",
        "n=int(input(\"Enter the number of terms: \"))\n",
        "f=fibonacci(n)\n",
        "for i in range(n):\n",
        "    print(next(f))\n"
      ],
      "metadata": {
        "colab": {
          "base_uri": "https://localhost:8080/"
        },
        "id": "QVooK-71qrN7",
        "outputId": "48a2fa9e-157a-401f-a295-242847d61cd3"
      },
      "execution_count": 40,
      "outputs": [
        {
          "output_type": "stream",
          "name": "stdout",
          "text": [
            "Enter the number of terms: 10\n",
            "0\n",
            "1\n",
            "1\n",
            "2\n",
            "3\n",
            "5\n",
            "8\n",
            "13\n",
            "21\n",
            "34\n"
          ]
        }
      ]
    },
    {
      "cell_type": "code",
      "source": [],
      "metadata": {
        "id": "kWhIHT7FquQx"
      },
      "execution_count": null,
      "outputs": []
    },
    {
      "cell_type": "markdown",
      "source": [
        "###6. Write a generator function in Python that yields the powers of 2 up to a given exponent."
      ],
      "metadata": {
        "id": "pCRt247EqyJJ"
      }
    },
    {
      "cell_type": "code",
      "source": [
        "def exp(n):\n",
        "    for i in range (n+1):\n",
        "        yield 2**i\n",
        "\n",
        "n=int(input(\"Enter the exponent: \"))\n",
        "\n",
        "f=exp(n)\n",
        "for i in f:\n",
        "    print(i)\n",
        ""
      ],
      "metadata": {
        "colab": {
          "base_uri": "https://localhost:8080/"
        },
        "id": "cSOZNojaq1yP",
        "outputId": "5f69414b-f919-4b71-df7e-b8bd4a9345a7"
      },
      "execution_count": 41,
      "outputs": [
        {
          "output_type": "stream",
          "name": "stdout",
          "text": [
            "Enter the exponent: 5\n",
            "1\n",
            "2\n",
            "4\n",
            "8\n",
            "16\n",
            "32\n"
          ]
        }
      ]
    },
    {
      "cell_type": "code",
      "source": [],
      "metadata": {
        "id": "6xnlr9f5q4_x"
      },
      "execution_count": null,
      "outputs": []
    },
    {
      "cell_type": "markdown",
      "source": [
        "###7. Implement a generator function that reads a file line by line and yields each line as a string."
      ],
      "metadata": {
        "id": "t924y9JCq7RM"
      }
    },
    {
      "cell_type": "code",
      "source": [
        "def read_file_line_by_line(file_path):\n",
        "    with open(file_path, 'r') as file:\n",
        "        for line in file:\n",
        "            yield line.strip()\n",
        "\n",
        "file_path = \"\"C:\\\\Users\\\\User\\\\Documents\\\\python\\\\chapter 1\\\\01_hello.py\"\"\n",
        "for line in read_file_line_by_line(file_path):\n",
        "    print(line)"
      ],
      "metadata": {
        "colab": {
          "base_uri": "https://localhost:8080/",
          "height": 106
        },
        "id": "TKNCasSIq-3p",
        "outputId": "deb1db9d-3c38-4da2-93b2-a778d9f37506"
      },
      "execution_count": 44,
      "outputs": [
        {
          "output_type": "error",
          "ename": "SyntaxError",
          "evalue": "invalid syntax (<ipython-input-44-4a2635927c43>, line 6)",
          "traceback": [
            "\u001b[0;36m  File \u001b[0;32m\"<ipython-input-44-4a2635927c43>\"\u001b[0;36m, line \u001b[0;32m6\u001b[0m\n\u001b[0;31m    file_path = \"\"C:\\\\Users\\\\User\\\\Documents\\\\python\\\\chapter 1\\\\01_hello.py\"\"\u001b[0m\n\u001b[0m                  ^\u001b[0m\n\u001b[0;31mSyntaxError\u001b[0m\u001b[0;31m:\u001b[0m invalid syntax\n"
          ]
        }
      ]
    },
    {
      "cell_type": "markdown",
      "source": [
        "###8. Use a lambda function in Python to sort a list of tuples based on the second element of each tuple."
      ],
      "metadata": {
        "id": "98X7FBVmr08_"
      }
    },
    {
      "cell_type": "code",
      "source": [
        "l3 = [(1, 5), (2, 8), (7, 4), (6, 4)]\n",
        "sorted_list = sorted(l3, key=lambda x: x[1])\n",
        "print(sorted_list)"
      ],
      "metadata": {
        "colab": {
          "base_uri": "https://localhost:8080/"
        },
        "id": "_slbsRelr2Bw",
        "outputId": "d6176253-ee24-4885-83f4-f183592e289b"
      },
      "execution_count": 46,
      "outputs": [
        {
          "output_type": "stream",
          "name": "stdout",
          "text": [
            "[(7, 4), (6, 4), (1, 5), (2, 8)]\n"
          ]
        }
      ]
    },
    {
      "cell_type": "code",
      "source": [],
      "metadata": {
        "id": "J-PS2Z90rA2b"
      },
      "execution_count": null,
      "outputs": []
    },
    {
      "cell_type": "markdown",
      "source": [
        "###9. Write a Python program that uses `map()` to convert a list of temperatures from Celsius to Fahrenheit."
      ],
      "metadata": {
        "id": "Ohg73SrAsIu6"
      }
    },
    {
      "cell_type": "code",
      "source": [
        "\n",
        "temp=[37,27,43,21,0,89]\n",
        "\n",
        "a= map(lambda x: x*(9/5)+32,temp)\n",
        "print(list(a))"
      ],
      "metadata": {
        "colab": {
          "base_uri": "https://localhost:8080/"
        },
        "id": "Rj68u5FKsJs-",
        "outputId": "0b76a3ad-fcd9-4714-f4d7-15bb5974d65b"
      },
      "execution_count": 47,
      "outputs": [
        {
          "output_type": "stream",
          "name": "stdout",
          "text": [
            "[98.60000000000001, 80.6, 109.4, 69.80000000000001, 32.0, 192.20000000000002]\n"
          ]
        }
      ]
    },
    {
      "cell_type": "code",
      "source": [],
      "metadata": {
        "id": "QhjLlkEtsP7W"
      },
      "execution_count": null,
      "outputs": []
    },
    {
      "cell_type": "markdown",
      "source": [
        "###10. Create a Python program that uses `filter()` to remove all the vowels from a given string."
      ],
      "metadata": {
        "id": "H3wYhnhqsRYq"
      }
    },
    {
      "cell_type": "code",
      "source": [
        "def r_v(s):\n",
        "    vowels = \"aeiouAEIOU\"\n",
        "    return ''.join(filter(lambda x: x not in vowels, s))\n",
        "\n",
        "input_string = \"Shuhul\"\n",
        "result_string = r_v(input_string)\n",
        "result_string"
      ],
      "metadata": {
        "colab": {
          "base_uri": "https://localhost:8080/",
          "height": 36
        },
        "id": "wUeMCZIHsVQn",
        "outputId": "f61ed4d0-af81-47a0-d7db-23f1e9c97674"
      },
      "execution_count": 48,
      "outputs": [
        {
          "output_type": "execute_result",
          "data": {
            "text/plain": [
              "'Shhl'"
            ],
            "application/vnd.google.colaboratory.intrinsic+json": {
              "type": "string"
            }
          },
          "metadata": {},
          "execution_count": 48
        }
      ]
    },
    {
      "cell_type": "code",
      "source": [],
      "metadata": {
        "id": "nP6R15UysaEh"
      },
      "execution_count": null,
      "outputs": []
    },
    {
      "cell_type": "markdown",
      "source": [
        "###11 Imagine an accounting routine used in a book shop. It works on a list with sublists, which look like this:\n",
        "\n",
        "#####Write a Python program, which returns a list with 2-tuples. Each tuple consists of the order number and the product of the price per item and the quantity. The product should be increased by 10,- € if the value of the order is smaller than 100,00 €.\n",
        "\n",
        "#####Write a Python program using lambda and map"
      ],
      "metadata": {
        "id": "YDseIA9rseHa"
      }
    },
    {
      "cell_type": "code",
      "source": [
        "data = [\n",
        "    [34587, \"Learning Python, Mark Lutz\", 4, 40.95],\n",
        "    [98762, \"Programming Python, Mark Lutz\", 5, 56.80],\n",
        "    [77226, \"Head First Python, Paul Barry\", 3, 32.95],\n",
        "    [88112, \"Einführung in Python3, Bernd Klein\", 3, 24.99]\n",
        "]\n",
        "\n",
        "result = list(map(lambda x: (x[0], x[2] * x[3] + (10 if x[2] * x[3] < 100 else 0)), data))\n",
        "\n",
        "print(result)\n"
      ],
      "metadata": {
        "colab": {
          "base_uri": "https://localhost:8080/"
        },
        "id": "aMS1ov-8svIA",
        "outputId": "911532cf-cb6d-4c5f-da96-aba0bb3858eb"
      },
      "execution_count": 49,
      "outputs": [
        {
          "output_type": "stream",
          "name": "stdout",
          "text": [
            "[(34587, 163.8), (98762, 284.0), (77226, 108.85000000000001), (88112, 84.97)]\n"
          ]
        }
      ]
    },
    {
      "cell_type": "code",
      "source": [],
      "metadata": {
        "id": "_f8Re73Ms9vi"
      },
      "execution_count": null,
      "outputs": []
    }
  ]
}