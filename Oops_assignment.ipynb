{
  "nbformat": 4,
  "nbformat_minor": 0,
  "metadata": {
    "colab": {
      "provenance": []
    },
    "kernelspec": {
      "name": "python3",
      "display_name": "Python 3"
    },
    "language_info": {
      "name": "python"
    }
  },
  "cells": [
    {
      "cell_type": "code",
      "execution_count": null,
      "metadata": {
        "id": "NXhH2-lbniJn"
      },
      "outputs": [],
      "source": []
    },
    {
      "cell_type": "markdown",
      "source": [
        "### What are the five key concepts of Object-Oriented Programming (OOP)?\n"
      ],
      "metadata": {
        "id": "dRbWibb6nmUi"
      }
    },
    {
      "cell_type": "markdown",
      "source": [
        "The five key concepts of Object-Oriented Programming (OOP) are:\n",
        "\n",
        "Classes and Objects:\n",
        "\n",
        "A class is a blueprint for creating objects. It defines the properties (attributes) and behaviors (methods) that the objects created from the class will have.\n",
        "An object is an instance of a class, with its own unique values for the properties defined by the class.\n",
        "\n",
        "Encapsulation:\n",
        "\n",
        "This concept involves bundling the data (attributes) and the methods (functions) that operate on that data into a single unit, or class.\n",
        "Encapsulation also includes restricting access to certain details of an object to protect it from unintended interference. This is often achieved using access modifiers like public, private, and protected.\n",
        "\n",
        "Abstraction:\n",
        "\n",
        "Abstraction is the process of hiding complex implementation details and showing only the essential features of an object.\n",
        "It allows users to interact with an object at a higher level, without needing to understand the internal workings.\n",
        "\n",
        "Inheritance:\n",
        "\n",
        "Inheritance allows a class (child or subclass) to inherit properties and behaviors (methods) from another class (parent or superclass).\n",
        "It promotes code reuse and establishes a relationship between classes, making it easier to build complex systems based on simpler ones.\n",
        "\n",
        "Polymorphism:\n",
        "\n",
        "Polymorphism allows objects of different classes to be treated as objects of a common superclass. It enables methods to be used in different ways depending on the context.\n",
        "The two main types of polymorphism are method overriding (changing the implementation of a method in a subclass) and method overloading (defining multiple methods with the same name but different parameters).\n",
        "Together, these concepts help structure code in a modular, reusable, and maintainable way.\n",
        "\n",
        "\n",
        "\n",
        "\n",
        "\n",
        "\n"
      ],
      "metadata": {
        "id": "rrHpqXfznrfE"
      }
    },
    {
      "cell_type": "markdown",
      "source": [
        "###Write a Python class for a `Car` with attributes for `make`, `model`, and `year`. Include a method to display the car's information."
      ],
      "metadata": {
        "id": "ztGk3UV1oOUZ"
      }
    },
    {
      "cell_type": "code",
      "source": [
        "class Car:\n",
        "    def __init__(self, make, model, year):\n",
        "        self.make = make\n",
        "        self.model = model\n",
        "        self.year = year\n",
        "\n",
        "    def display_info(self):\n",
        "        print(f\"Car Information: {self.year} {self.make} {self.model}\")\n",
        "\n"
      ],
      "metadata": {
        "id": "_P_fE6bUoSlU"
      },
      "execution_count": 1,
      "outputs": []
    },
    {
      "cell_type": "code",
      "source": [
        "my_car = Car(\"Toyota\", \"Corolla\", 2020)\n",
        "my_car.display_info()\n"
      ],
      "metadata": {
        "colab": {
          "base_uri": "https://localhost:8080/"
        },
        "id": "S7A5YiA3obWi",
        "outputId": "af9559d6-0be1-42da-df34-0a87b14c4a8d"
      },
      "execution_count": 2,
      "outputs": [
        {
          "output_type": "stream",
          "name": "stdout",
          "text": [
            "Car Information: 2020 Toyota Corolla\n"
          ]
        }
      ]
    },
    {
      "cell_type": "code",
      "source": [],
      "metadata": {
        "id": "a7rbtvqPoeXV"
      },
      "execution_count": null,
      "outputs": []
    },
    {
      "cell_type": "markdown",
      "source": [
        "###. Explain the difference between instance methods and class methods. Provide an example of each.\n",
        "\n",
        "1. Instance Methods\n",
        "An instance method is a method that operates on an instance of a class.\n",
        "It takes the instance itself (self) as its first argument and can access or modify instance attributes.\n",
        "These methods are the most common type and are used for behaviors that depend on the instance’s state."
      ],
      "metadata": {
        "id": "lDA5psfnog0g"
      }
    },
    {
      "cell_type": "code",
      "source": [
        "class Dog:\n",
        "    def __init__(self, name, breed):\n",
        "        self.name = name\n",
        "        self.breed = breed\n",
        "\n",
        "    # Instance method\n",
        "    def bark(self):\n",
        "        return f\"{self.name} says woof!\"\n"
      ],
      "metadata": {
        "id": "t1qFyptNou3M"
      },
      "execution_count": 3,
      "outputs": []
    },
    {
      "cell_type": "code",
      "source": [
        "my_dog = Dog(\"Buddy\", \"Golden Retriever\")\n",
        "print(my_dog.bark())\n"
      ],
      "metadata": {
        "colab": {
          "base_uri": "https://localhost:8080/"
        },
        "id": "hSW7mHgdoyEF",
        "outputId": "2578de39-dc47-4745-c122-ca2aa95a4966"
      },
      "execution_count": 4,
      "outputs": [
        {
          "output_type": "stream",
          "name": "stdout",
          "text": [
            "Buddy says woof!\n"
          ]
        }
      ]
    },
    {
      "cell_type": "markdown",
      "source": [
        "2. Class Methods\n",
        "A class method is bound to the class and not to any instance of the class.\n",
        "It takes the class itself (cls) as its first argument and can only access or modify class attributes (shared across all instances).\n",
        "To define a class method, use the @classmethod decorator."
      ],
      "metadata": {
        "id": "45_pmfx0o3gs"
      }
    },
    {
      "cell_type": "code",
      "source": [
        "class Dog:\n",
        "    species = \"Canis lupus familiaris\"  # Class attribute\n",
        "\n",
        "    def __init__(self, name, breed):\n",
        "        self.name = name\n",
        "        self.breed = breed\n",
        "\n",
        "    # Class method\n",
        "    @classmethod\n",
        "    def get_species(cls):\n",
        "        return f\"All dogs belong to the species {cls.species}.\"\n"
      ],
      "metadata": {
        "id": "HoI_Tsk4o8c9"
      },
      "execution_count": 5,
      "outputs": []
    },
    {
      "cell_type": "code",
      "source": [
        "print(Dog.get_species())\n"
      ],
      "metadata": {
        "colab": {
          "base_uri": "https://localhost:8080/"
        },
        "id": "BNgW49Swo0Jf",
        "outputId": "7e3248eb-a557-4a90-ee3b-b9507c78114d"
      },
      "execution_count": 6,
      "outputs": [
        {
          "output_type": "stream",
          "name": "stdout",
          "text": [
            "All dogs belong to the species Canis lupus familiaris.\n"
          ]
        }
      ]
    },
    {
      "cell_type": "code",
      "source": [],
      "metadata": {
        "id": "Q1MICZxOpCRO"
      },
      "execution_count": null,
      "outputs": []
    },
    {
      "cell_type": "markdown",
      "source": [
        "###How does Python implement method overloading? Give an example.\n",
        "\n",
        "Python does not support traditional method overloading as in some other languages, where multiple methods with the same name can be defined with different parameter lists. Instead, Python uses default arguments, variable arguments (*args and **kwargs), and type checks within a single method to handle different cases."
      ],
      "metadata": {
        "id": "kC4i9TkEpGIn"
      }
    },
    {
      "cell_type": "code",
      "source": [
        "class Calculator:\n",
        "    def add(self, a, b=None, c=None):\n",
        "        # Single argument case\n",
        "        if b is None and c is None:\n",
        "            return a\n",
        "        # Two arguments case\n",
        "        elif c is None:\n",
        "            return a + b\n",
        "        # Three arguments case\n",
        "        else:\n",
        "            return a + b + c\n",
        "\n",
        "# Usage\n",
        "calc = Calculator()\n",
        "print(calc.add(5))         #one argument\n",
        "print(calc.add(5, 10))     #two arguments\n",
        "print(calc.add(5, 10, 15)) #three arguments\n"
      ],
      "metadata": {
        "colab": {
          "base_uri": "https://localhost:8080/"
        },
        "id": "WmpXQJATpRcf",
        "outputId": "0b13ac55-c934-4f42-f6e2-83f177664ccf"
      },
      "execution_count": 7,
      "outputs": [
        {
          "output_type": "stream",
          "name": "stdout",
          "text": [
            "5\n",
            "15\n",
            "30\n"
          ]
        }
      ]
    },
    {
      "cell_type": "markdown",
      "source": [],
      "metadata": {
        "id": "CHYipYK0peLN"
      }
    },
    {
      "cell_type": "markdown",
      "source": [
        "###What are the three types of access modifiers in Python? How are they denoted?\n",
        "\n",
        "In Python, there are three types of access modifiers that control access to class attributes and methods. These are:\n",
        "\n",
        "1. Public Access\n",
        "Public attributes and methods are accessible from any part of the program.\n",
        "They are the default access level in Python and are denoted by simply naming the variable or method without any leading underscores.\n",
        "\n",
        "2. Protected Access\n",
        "Protected attributes and methods are intended to be accessible only within the class and its subclasses.\n",
        "They are denoted by a single leading underscore (_attribute or _method).\n",
        "While technically accessible from outside, the single underscore indicates that these members are intended for internal use within the class or subclass.\n",
        "\n",
        "3. Private Access\n",
        "Private attributes and methods are meant to be accessible only within the class where they are defined.\n",
        "They are denoted by a double leading underscore (__attribute or __method).\n",
        "Python uses name mangling to make these attributes harder to access from outside the class. They can still be accessed with a modified name but are generally not meant to be used directly."
      ],
      "metadata": {
        "id": "Fr2KbvYBpeud"
      }
    },
    {
      "cell_type": "markdown",
      "source": [
        "### Describe the five types of inheritance in Python. Provide a simple example of multiple inheritance.\n",
        "\n",
        "1. Single Inheritance\n",
        "A single subclass inherits from one parent class.\n",
        "\n",
        "2. Multiple Inheritance\n",
        "A subclass inherits from more than one parent class.\n",
        "Python allows multiple inheritance, but care is needed to handle potential conflicts from inherited attributes or methods\n",
        "ex-"
      ],
      "metadata": {
        "id": "ea7IHhjdp1Rp"
      }
    },
    {
      "cell_type": "code",
      "source": [
        "class Canine:\n",
        "    def bark(self):\n",
        "        print(\"Woof!\")\n",
        "\n",
        "class Swimmer:\n",
        "    def swim(self):\n",
        "        print(\"Swimming...\")\n",
        "\n",
        "class Dog(Canine, Swimmer):\n",
        "    pass\n",
        "\n",
        "# Usage\n",
        "dog = Dog()\n",
        "dog.bark()\n",
        "dog.swim()\n"
      ],
      "metadata": {
        "colab": {
          "base_uri": "https://localhost:8080/"
        },
        "id": "D1IEGj8GqJlX",
        "outputId": "abb34703-494a-41fb-a730-8e60a54c0104"
      },
      "execution_count": 8,
      "outputs": [
        {
          "output_type": "stream",
          "name": "stdout",
          "text": [
            "Woof!\n",
            "Swimming...\n"
          ]
        }
      ]
    },
    {
      "cell_type": "code",
      "source": [],
      "metadata": {
        "id": "HyXCjXBlpVIk"
      },
      "execution_count": null,
      "outputs": []
    },
    {
      "cell_type": "markdown",
      "source": [
        "3. Multilevel Inheritance\n",
        "A chain of inheritance where a class is derived from a class that is itself derived from another class.\n",
        "\n",
        "4. Hierarchical Inheritance\n",
        "Multiple subclasses inherit from a single parent class.\n",
        "\n",
        "5. Hybrid Inheritance\n",
        "A combination of two or more types of inheritance (e.g., multiple and hierarchical inheritance together)."
      ],
      "metadata": {
        "id": "35N7cWlsqPJd"
      }
    },
    {
      "cell_type": "markdown",
      "source": [
        "###What is the Method Resolution Order (MRO) in Python? How can you retrieve it programmatically?\n",
        "\n",
        "The Method Resolution Order (MRO) in Python is the order in which Python looks up methods and attributes when they are accessed on an instance of a class. MRO is especially important in cases of multiple inheritance to determine which method or attribute should be chosen first. Python uses the C3 Linearization algorithm (also called C3 superclass linearization) to compute the MRO.\n",
        "\n",
        "The MRO ensures:\n",
        "\n",
        "Order consistency: Derived classes come before base classes.\n",
        "Left-to-right precedence: In the case of multiple inheritance, classes on the left are prioritized over those on the right.\n",
        "Parent-first constraint: A parent class will only be considered after all its subclasses have been checked.\n",
        "\n",
        "How to Retrieve MRO Programmatically?\n",
        "\n",
        "We can retrieve MRO using __mro__ or mro() attribute."
      ],
      "metadata": {
        "id": "TuPA-AjlqW16"
      }
    },
    {
      "cell_type": "code",
      "source": [],
      "metadata": {
        "id": "eTyLqNSrq12f"
      },
      "execution_count": null,
      "outputs": []
    },
    {
      "cell_type": "markdown",
      "source": [
        "###Create an abstract base class `Shape` with an abstract method `area()`. Then create two subclasses `Circle` and `Rectangle` that implement the `area()` method."
      ],
      "metadata": {
        "id": "bpKGxEQhq2SY"
      }
    },
    {
      "cell_type": "code",
      "source": [
        "from abc import ABC, abstractmethod\n",
        "import math\n",
        "\n",
        "# Abstract base class\n",
        "class Shape(ABC):\n",
        "    @abstractmethod\n",
        "    def area(self):\n",
        "        pass\n",
        "\n",
        "# Subclass Circle\n",
        "class Circle(Shape):\n",
        "    def __init__(self, radius):\n",
        "        self.radius = radius\n",
        "\n",
        "    def area(self):\n",
        "        return math.pi * (self.radius ** 2)\n",
        "\n",
        "# Subclass Rectangle\n",
        "class Rectangle(Shape):\n",
        "    def __init__(self, width, height):\n",
        "        self.width = width\n",
        "        self.height = height\n",
        "\n",
        "    def area(self):\n",
        "        return self.width * self.height\n",
        "\n",
        "# Usage\n",
        "circle = Circle(5)\n",
        "rectangle = Rectangle(4, 6)\n",
        "\n",
        "print(\"Circle area:\", circle.area())\n",
        "print(\"Rectangle area:\", rectangle.area())\n"
      ],
      "metadata": {
        "colab": {
          "base_uri": "https://localhost:8080/"
        },
        "id": "RdUewSW1q_7_",
        "outputId": "efe5349b-931b-415d-de5b-453b1be1225f"
      },
      "execution_count": 9,
      "outputs": [
        {
          "output_type": "stream",
          "name": "stdout",
          "text": [
            "Circle area: 78.53981633974483\n",
            "Rectangle area: 24\n"
          ]
        }
      ]
    },
    {
      "cell_type": "code",
      "source": [],
      "metadata": {
        "id": "vq6Z7w5JrCfK"
      },
      "execution_count": null,
      "outputs": []
    },
    {
      "cell_type": "markdown",
      "source": [
        "###Demonstrate polymorphism by creating a function that can work with different shape objects to calculate and print their areas."
      ],
      "metadata": {
        "id": "E_fip1DOrDrG"
      }
    },
    {
      "cell_type": "code",
      "source": [
        "from abc import ABC, abstractmethod\n",
        "import math\n",
        "\n",
        "# Abstract base class\n",
        "class Shape(ABC):\n",
        "    @abstractmethod\n",
        "    def area(self):\n",
        "        pass\n",
        "\n",
        "# Circle class\n",
        "class Circle(Shape):\n",
        "    def __init__(self, radius):\n",
        "        self.radius = radius\n",
        "\n",
        "    def area(self):\n",
        "        return math.pi * (self.radius ** 2)\n",
        "\n",
        "# Rectangle class\n",
        "class Rectangle(Shape):\n",
        "    def __init__(self, width, height):\n",
        "        self.width = width\n",
        "        self.height = height\n",
        "\n",
        "    def area(self):\n",
        "        return self.width * self.height\n",
        "\n",
        "# Function demonstrating polymorphism\n",
        "def print_area(shape):\n",
        "    print(f\"The area is: {shape.area()}\")\n",
        "\n",
        "# Usage\n",
        "circle = Circle(5)\n",
        "rectangle = Rectangle(4, 6)\n",
        "\n",
        "print_area(circle)\n",
        "print_area(rectangle)\n"
      ],
      "metadata": {
        "colab": {
          "base_uri": "https://localhost:8080/"
        },
        "id": "X0CcysrxrQQR",
        "outputId": "5bbdf5b8-c898-4765-8cf0-d61e6cbf9b4f"
      },
      "execution_count": 10,
      "outputs": [
        {
          "output_type": "stream",
          "name": "stdout",
          "text": [
            "The area is: 78.53981633974483\n",
            "The area is: 24\n"
          ]
        }
      ]
    },
    {
      "cell_type": "markdown",
      "source": [
        "###. Implement encapsulation in a `BankAccount` class with private attributes for `balance` and `account_number`. Include methods for deposit, withdrawal, and balance inquiry."
      ],
      "metadata": {
        "id": "dvCzRXG1rUpn"
      }
    },
    {
      "cell_type": "code",
      "source": [
        "class BankAccount:\n",
        "    def __init__(self, account_number, initial_balance=0):\n",
        "        self.__account_number = account_number  # Private attribute\n",
        "        self.__balance = initial_balance        # Private attribute\n",
        "\n",
        "    def deposit(self, amount):\n",
        "        if amount > 0:\n",
        "            self.__balance += amount\n",
        "            print(f\"Deposited ${amount}. New balance: ${self.__balance}\")\n",
        "        else:\n",
        "            print(\"Deposit amount must be positive.\")\n",
        "\n",
        "    def withdraw(self, amount):\n",
        "        if amount > self.__balance:\n",
        "            print(\"Insufficient funds.\")\n",
        "        elif amount > 0:\n",
        "            self.__balance -= amount\n",
        "            print(f\"Withdrew ${amount}. New balance: ${self.__balance}\")\n",
        "        else:\n",
        "            print(\"Withdrawal amount must be positive.\")\n",
        "\n",
        "    def get_balance(self):\n",
        "        return self.__balance\n",
        "\n",
        "    def get_account_number(self):\n",
        "        return self.__account_number\n",
        "\n",
        "# Usage\n",
        "account = BankAccount(\"123456789\", 1000)\n",
        "account.deposit(500)\n",
        "account.withdraw(200)\n",
        "print(account.get_balance())\n",
        "print(account.get_account_number())\n"
      ],
      "metadata": {
        "colab": {
          "base_uri": "https://localhost:8080/"
        },
        "id": "TnWQNUIUrfLV",
        "outputId": "e7e1513d-6216-422c-b049-fc75eda6975a"
      },
      "execution_count": 11,
      "outputs": [
        {
          "output_type": "stream",
          "name": "stdout",
          "text": [
            "Deposited $500. New balance: $1500\n",
            "Withdrew $200. New balance: $1300\n",
            "1300\n",
            "123456789\n"
          ]
        }
      ]
    },
    {
      "cell_type": "code",
      "source": [],
      "metadata": {
        "id": "cEdYvCOirRH_"
      },
      "execution_count": null,
      "outputs": []
    },
    {
      "cell_type": "markdown",
      "source": [
        "###Write a class that overrides the `__str__` and `__add__` magic methods. What will these methods allow you to do?"
      ],
      "metadata": {
        "id": "2lRUT3tlrlXo"
      }
    },
    {
      "cell_type": "code",
      "source": [
        "class Point:\n",
        "    def __init__(self, x, y):\n",
        "        self.x = x\n",
        "        self.y = y\n",
        "\n",
        "    def __str__(self):\n",
        "        return f\"Point({self.x}, {self.y})\"\n",
        "\n",
        "    def __add__(self, other):\n",
        "        if isinstance(other, Point):\n",
        "            return Point(self.x + other.x, self.y + other.y)\n",
        "        return NotImplemented\n",
        "\n",
        "# Usage\n",
        "point1 = Point(2, 3)\n",
        "point2 = Point(4, 5)\n",
        "\n",
        "# Using __str__ method\n",
        "print(point1)  # Output: Point(2, 3)\n",
        "print(point2)  # Output: Point(4, 5)\n",
        "\n",
        "# Using __add__ method\n",
        "point3 = point1 + point2\n",
        "print(point3)  # Output: Point(6, 8)\n"
      ],
      "metadata": {
        "colab": {
          "base_uri": "https://localhost:8080/"
        },
        "id": "9FKGuE0Drzzm",
        "outputId": "18f9de4f-98d6-454e-b1e6-ef7c83752add"
      },
      "execution_count": 12,
      "outputs": [
        {
          "output_type": "stream",
          "name": "stdout",
          "text": [
            "Point(2, 3)\n",
            "Point(4, 5)\n",
            "Point(6, 8)\n"
          ]
        }
      ]
    },
    {
      "cell_type": "code",
      "source": [],
      "metadata": {
        "id": "YKJ9Odipr0cP"
      },
      "execution_count": null,
      "outputs": []
    },
    {
      "cell_type": "markdown",
      "source": [
        "###Create a decorator that measures and prints the execution time of a function."
      ],
      "metadata": {
        "id": "P1yPeNXsr1p1"
      }
    },
    {
      "cell_type": "code",
      "source": [
        "import time\n",
        "\n",
        "def timer_decorator(func):\n",
        "    def wrapper(*args, **kwargs):\n",
        "        start_time = time.time()  # Record the start time\n",
        "        result = func(*args, **kwargs)  # Call the original function\n",
        "        end_time = time.time()  # Record the end time\n",
        "        execution_time = end_time - start_time  # Calculate execution time\n",
        "        print(f\"Execution time of {func.__name__}: {execution_time:.4f} seconds\")\n",
        "        return result  # Return the result of the original function\n",
        "    return wrapper\n",
        "\n",
        "# Example usage\n",
        "@timer_decorator\n",
        "def slow_function(seconds):\n",
        "    time.sleep(seconds)  # Simulate a slow function\n",
        "    return \"Done!\"\n",
        "\n",
        "# Calling the decorated function\n",
        "result = slow_function(2)  # Waits for 2 seconds\n",
        "print(result)  # Output: Done!\n"
      ],
      "metadata": {
        "colab": {
          "base_uri": "https://localhost:8080/"
        },
        "id": "KIC_RSHWr9YW",
        "outputId": "671bc1c4-8dd5-4ed3-a36a-1fb29ddc2033"
      },
      "execution_count": 13,
      "outputs": [
        {
          "output_type": "stream",
          "name": "stdout",
          "text": [
            "Execution time of slow_function: 2.0021 seconds\n",
            "Done!\n"
          ]
        }
      ]
    },
    {
      "cell_type": "code",
      "source": [],
      "metadata": {
        "id": "62eVCjF6r93q"
      },
      "execution_count": null,
      "outputs": []
    },
    {
      "cell_type": "markdown",
      "source": [
        "###Explain the concept of the Diamond Problem in multiple inheritance. How does Python resolve it?\n",
        "\n",
        "The Diamond Problem in multiple inheritance occurs when a class inherits from two classes that both inherit from a common superclass. This can create ambiguity about which path to follow when accessing attributes or methods from the common superclass. The name \"diamond\" comes from the diamond-shaped inheritance diagram that this situation creates.\n",
        "\n",
        "A is the superclass.\n",
        "B and C both inherit from A.\n",
        "D inherits from both B and C.\n",
        "If D tries to call a method defined in A, it raises the question: Should it inherit the method from B or from C?\n",
        "\n",
        "Python uses the C3 Linearization algorithm (also known as C3 superclass linearization) to resolve the diamond problem. This algorithm creates a linear order of classes to follow when looking up methods and attributes. In Python, the method resolution order (MRO) is determined using this algorithm.\n",
        "\n",
        "When d.show() is called, Python looks up the MRO for class D, which can be obtained using the __mro__ attribute or the mro() method:"
      ],
      "metadata": {
        "id": "eszxYmzvsELJ"
      }
    },
    {
      "cell_type": "code",
      "source": [
        "class A:\n",
        "    def show(self):\n",
        "        print(\"Method from A\")\n",
        "\n",
        "class B(A):\n",
        "    def show(self):\n",
        "        print(\"Method from B\")\n",
        "\n",
        "class C(A):\n",
        "    def show(self):\n",
        "        print(\"Method from C\")\n",
        "\n",
        "class D(B, C):\n",
        "    pass\n",
        "\n",
        "d = D()\n",
        "d.show()  # Which show() method should be called?\n"
      ],
      "metadata": {
        "colab": {
          "base_uri": "https://localhost:8080/"
        },
        "id": "t4QjY1VesZ-s",
        "outputId": "c1010238-36e6-46be-f66b-cfe50057dbb2"
      },
      "execution_count": 14,
      "outputs": [
        {
          "output_type": "stream",
          "name": "stdout",
          "text": [
            "Method from B\n"
          ]
        }
      ]
    },
    {
      "cell_type": "code",
      "source": [
        "print(D.__mro__)\n",
        "\n"
      ],
      "metadata": {
        "colab": {
          "base_uri": "https://localhost:8080/"
        },
        "id": "yiGOd_i_scEt",
        "outputId": "cb232587-daf0-4e47-951a-804567e599de"
      },
      "execution_count": 15,
      "outputs": [
        {
          "output_type": "stream",
          "name": "stdout",
          "text": [
            "(<class '__main__.D'>, <class '__main__.B'>, <class '__main__.C'>, <class '__main__.A'>, <class 'object'>)\n"
          ]
        }
      ]
    },
    {
      "cell_type": "code",
      "source": [],
      "metadata": {
        "id": "jQqrUvNwsguF"
      },
      "execution_count": null,
      "outputs": []
    },
    {
      "cell_type": "markdown",
      "source": [
        "###Write a class method that keeps track of the number of instances created from a class."
      ],
      "metadata": {
        "id": "dWE_yWBBshxd"
      }
    },
    {
      "cell_type": "code",
      "source": [
        "class InstanceCounter:\n",
        "    # Class variable to keep track of the number of instances\n",
        "    instance_count = 0\n",
        "\n",
        "    def __init__(self):\n",
        "        # Increment the instance count each time a new instance is created\n",
        "        InstanceCounter.instance_count += 1\n",
        "\n",
        "    @classmethod\n",
        "    def get_instance_count(cls):\n",
        "        # Class method to return the current instance count\n",
        "        return cls.instance_count\n",
        "\n",
        "# Usage\n",
        "obj1 = InstanceCounter()\n",
        "obj2 = InstanceCounter()\n",
        "obj3 = InstanceCounter()\n",
        "\n",
        "# Accessing the instance count using the class method\n",
        "print(\"Number of instances created:\", InstanceCounter.get_instance_count())\n"
      ],
      "metadata": {
        "colab": {
          "base_uri": "https://localhost:8080/"
        },
        "id": "ejsW9iCfsqJh",
        "outputId": "5882100c-6eff-46c0-8cfe-818c67e13e62"
      },
      "execution_count": 16,
      "outputs": [
        {
          "output_type": "stream",
          "name": "stdout",
          "text": [
            "Number of instances created: 3\n"
          ]
        }
      ]
    },
    {
      "cell_type": "markdown",
      "source": [
        "### Implement a static method in a class that checks if a given year is a leap year.\n",
        "\n",
        "You can implement a static method in a class that checks if a given year is a leap year using the following criteria:\n",
        "\n",
        "A year is a leap year if:\n",
        "It is divisible by 4;\n",
        "However, it is not a leap year if it is divisible by 100 unless it is also divisible by 400."
      ],
      "metadata": {
        "id": "UApoRN3hsutk"
      }
    },
    {
      "cell_type": "code",
      "source": [
        "class YearChecker:\n",
        "    @staticmethod\n",
        "    def is_leap_year(year):\n",
        "        \"\"\"Check if a given year is a leap year.\"\"\"\n",
        "        if (year % 4 == 0 and year % 100 != 0) or (year % 400 == 0):\n",
        "            return True\n",
        "        return False\n",
        "\n",
        "# Usage\n",
        "year = 2024\n",
        "if YearChecker.is_leap_year(year):\n",
        "    print(f\"{year} is a leap year.\")\n",
        "else:\n",
        "    print(f\"{year} is not a leap year.\")\n",
        "\n",
        "year = 1900\n",
        "if YearChecker.is_leap_year(year):\n",
        "    print(f\"{year} is a leap year.\")\n",
        "else:\n",
        "    print(f\"{year} is not a leap year.\")\n",
        "\n",
        "year = 2000\n",
        "if YearChecker.is_leap_year(year):\n",
        "    print(f\"{year} is a leap year.\")\n",
        "else:\n",
        "    print(f\"{year} is not a leap year.\")\n"
      ],
      "metadata": {
        "colab": {
          "base_uri": "https://localhost:8080/"
        },
        "id": "pl9xQAJZs3nD",
        "outputId": "f665d13d-58e9-41a0-d4ed-038bcb6fd470"
      },
      "execution_count": 18,
      "outputs": [
        {
          "output_type": "stream",
          "name": "stdout",
          "text": [
            "2024 is a leap year.\n",
            "1900 is not a leap year.\n",
            "2000 is a leap year.\n"
          ]
        }
      ]
    },
    {
      "cell_type": "code",
      "source": [],
      "metadata": {
        "id": "UYToX9Nmsq4c"
      },
      "execution_count": null,
      "outputs": []
    }
  ]
}