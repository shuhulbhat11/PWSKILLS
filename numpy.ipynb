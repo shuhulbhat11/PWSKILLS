{
  "nbformat": 4,
  "nbformat_minor": 0,
  "metadata": {
    "colab": {
      "provenance": []
    },
    "kernelspec": {
      "name": "python3",
      "display_name": "Python 3"
    },
    "language_info": {
      "name": "python"
    }
  },
  "cells": [
    {
      "cell_type": "code",
      "execution_count": null,
      "metadata": {
        "id": "I5tcA4eKMHlp"
      },
      "outputs": [],
      "source": []
    },
    {
      "cell_type": "markdown",
      "source": [
        "#THEORY\n",
        "\n",
        "###Explain the purpose and advantages of NumPy in scientific computing and data analysis. How does it enhance Python's capabilities for numerical operations?\n",
        "\n",
        "\n",
        "\n",
        "NumPy (Numerical Python) is a fundamental library for scientific computing and data analysis in Python, offering efficient tools for handling large arrays and matrices of numerical data. Its primary purpose is to provide a high-performance, flexible, and comprehensive framework for numerical calculations, which enhances Python’s capabilities in several ways. Here's a breakdown of why NumPy is so valuable and how it benefits scientific computing and data analysis:\n",
        "\n",
        "1. Efficient Data Structures (ndarray)\n",
        "Purpose: The core structure in NumPy is the ndarray (N-dimensional array), which can represent arrays of any dimension, like vectors, matrices, or higher-dimensional arrays.\n",
        "Advantages: Compared to Python's native lists, ndarray objects are more compact and allow for faster operations. This is because they store data in contiguous memory blocks, facilitating faster access and manipulation.\n",
        "2. Vectorized Operations and Broadcasting\n",
        "Purpose: NumPy enables element-wise operations on arrays without requiring explicit loops.\n",
        "Advantages: Vectorized operations are both easier to write and significantly faster than traditional loops in Python. Broadcasting (automatic alignment of arrays of different shapes) allows for complex calculations on arrays of different shapes without manual replication, improving both performance and readability.\n",
        "3. Speed and Performance through C Integration\n",
        "Purpose: NumPy is written in C and uses highly optimized C libraries to perform numerical operations.\n",
        "Advantages: This makes it much faster for numerical computations than native Python. Operations that would take seconds or minutes in Python loops can be done in milliseconds with NumPy, especially when dealing with large datasets.\n",
        "4. Comprehensive Mathematical Functions\n",
        "Purpose: NumPy provides a vast array of built-in functions for mathematical operations (e.g., trigonometry, linear algebra, random number generation).\n",
        "Advantages: This comprehensive set of tools enables users to perform a wide range of scientific computations directly within NumPy, often replacing the need for other specialized software.\n",
        "5. Support for Multidimensional Data and Linear Algebra\n",
        "Purpose: Scientific computing often requires operations on matrices and higher-dimensional data.\n",
        "Advantages: NumPy has built-in functions for matrix operations (like dot products, cross products, and matrix decompositions) and other linear algebraic computations. This makes it ideal for data manipulation in fields like machine learning, physics, and engineering.\n",
        "6. Integration with Other Libraries\n",
        "Purpose: NumPy serves as the foundation for many other Python libraries, including pandas, SciPy, and TensorFlow.\n",
        "Advantages: Its compatibility and interoperability with these libraries make NumPy essential for data analysis and machine learning workflows, enabling complex data manipulations and model-building tasks with ease.\n",
        "7. Memory Efficiency and Scalability\n",
        "Purpose: In scientific computing and data analysis, memory usage is critical, especially with large datasets.\n",
        "Advantages: NumPy’s efficient memory usage enables the handling of larger datasets than would be feasible with native Python lists, improving scalability in data-intensive applications.\n",
        "8. Data Analysis and Cleaning\n",
        "Purpose: NumPy facilitates fast and efficient data analysis and preprocessing steps.\n",
        "Advantages: It provides convenient ways to filter, slice, and transform data, making it indispensable for tasks in data cleaning and preprocessing, essential steps in any data analysis pipeline.\n",
        "\n",
        "###Compare and contrast np.mean() and np.average() functions in NumPy. When would you use one over the other\n",
        "\n",
        "In NumPy, both np.mean() and np.average() functions compute the average of array elements, but they have some key differences, especially in their handling of weights. Here’s a detailed comparison:\n",
        "\n",
        "np.mean()\n",
        "Purpose: Computes the arithmetic mean (average) of array elements.\n",
        "Syntax: np.mean(array, axis=None, dtype=None, out=None, keepdims=False)\n",
        "Behavior: This function calculates the mean by summing all the elements along the specified axis and dividing by the number of elements. It treats all elements equally and does not allow for weighting.\n",
        "Use Case: Use np.mean() when you want a simple, unweighted average of the elements in an array.\n",
        "\n",
        "np.average()\n",
        "Purpose: Computes the weighted average of array elements.\n",
        "Syntax: np.average(array, axis=None, weights=None, returned=False)\n",
        "Behavior: This function has an additional weights parameter, allowing for a weighted mean. If weights are provided, each element in the array is multiplied by the corresponding weight, and the sum of the weighted elements is divided by the sum of the weights.\n",
        "Use Case: Use np.average() when you need a weighted average, where different elements in the array contribute unequally to the final average.\n",
        "\n",
        "When to Use Each:\n",
        "\n",
        "Use np.mean() when you need a simple, straightforward average without considering any weights.\n",
        "Use np.average() if you need a weighted average, allowing specific elements to contribute more to the final mean.\n",
        "\n",
        "###Describe the methods for reversing a NumPy array along different axes. Provide examples for 1D and 2D arrays.\n",
        "\n",
        "In NumPy, you can reverse arrays along different axes using slicing, as well as specialized functions like np.flip(). Here’s how you can reverse arrays in both 1D and 2D contexts:\n",
        "\n",
        "1. Reversing a 1D Array\n",
        "For a 1-dimensional array, reversing simply means reversing the order of elements.\n",
        "Method 1: Using Slicing"
      ],
      "metadata": {
        "id": "66U0d9H8MIe-"
      }
    },
    {
      "cell_type": "code",
      "source": [
        "import numpy as np\n",
        "\n",
        "array_1d = np.array([1, 2, 3, 4, 5])\n",
        "reversed_1d = array_1d[::-1]\n",
        "print(reversed_1d)\n"
      ],
      "metadata": {
        "colab": {
          "base_uri": "https://localhost:8080/"
        },
        "id": "crHhXFCCNDvX",
        "outputId": "3bdd10df-f3b5-4155-de1d-f86144f6943e"
      },
      "execution_count": 1,
      "outputs": [
        {
          "output_type": "stream",
          "name": "stdout",
          "text": [
            "[5 4 3 2 1]\n"
          ]
        }
      ]
    },
    {
      "cell_type": "code",
      "source": [
        "#method 2 : Using np.flip()\n",
        "\n",
        "reversed_1d_flip = np.flip(array_1d)\n",
        "print(reversed_1d_flip)\n"
      ],
      "metadata": {
        "colab": {
          "base_uri": "https://localhost:8080/"
        },
        "id": "dqBSreU5NHCM",
        "outputId": "80f3fe00-a420-458b-d7f6-e2b5e07ffb29"
      },
      "execution_count": 2,
      "outputs": [
        {
          "output_type": "stream",
          "name": "stdout",
          "text": [
            "[5 4 3 2 1]\n"
          ]
        }
      ]
    },
    {
      "cell_type": "code",
      "source": [],
      "metadata": {
        "id": "AKh3F9LnNYPp"
      },
      "execution_count": null,
      "outputs": []
    },
    {
      "cell_type": "markdown",
      "source": [
        "Reversing a 2D Array Along Different Axes:\n",
        "\n",
        "For a 2-dimensional array (matrix), you can reverse along the rows (axis=0), the columns (axis=1), or both."
      ],
      "metadata": {
        "id": "vzt7EwLZNcc-"
      }
    },
    {
      "cell_type": "code",
      "source": [
        "array_2d = np.array([[1, 2, 3],\n",
        "                     [4, 5, 6],\n",
        "                     [7, 8, 9]])\n"
      ],
      "metadata": {
        "id": "8qoAKtpLNgOm"
      },
      "execution_count": 3,
      "outputs": []
    },
    {
      "cell_type": "code",
      "source": [
        "#flip alomg rows (axis=0)\n",
        "flipped_rows = np.flip(array_2d, axis=0)\n",
        "print(flipped_rows)\n",
        "\n"
      ],
      "metadata": {
        "colab": {
          "base_uri": "https://localhost:8080/"
        },
        "id": "PNDtv9ZDNj6c",
        "outputId": "d7ffe0a0-1878-437f-8c45-ebe734f1844f"
      },
      "execution_count": 4,
      "outputs": [
        {
          "output_type": "stream",
          "name": "stdout",
          "text": [
            "[[7 8 9]\n",
            " [4 5 6]\n",
            " [1 2 3]]\n"
          ]
        }
      ]
    },
    {
      "cell_type": "code",
      "source": [
        "#flip alomg columns (axis=1)\n",
        "flipped_columns = np.flip(array_2d, axis=1)\n",
        "print(flipped_columns)\n",
        "\n"
      ],
      "metadata": {
        "colab": {
          "base_uri": "https://localhost:8080/"
        },
        "id": "SUnETzPDN0ge",
        "outputId": "62258a01-4029-4eeb-a74a-e9a0c308d462"
      },
      "execution_count": 5,
      "outputs": [
        {
          "output_type": "stream",
          "name": "stdout",
          "text": [
            "[[3 2 1]\n",
            " [6 5 4]\n",
            " [9 8 7]]\n"
          ]
        }
      ]
    },
    {
      "cell_type": "code",
      "source": [],
      "metadata": {
        "id": "O5eel8snN3kR"
      },
      "execution_count": null,
      "outputs": []
    },
    {
      "cell_type": "markdown",
      "source": [
        "###How can you determine the data type of elements in a NumPy array? Discuss the importance of data types in memory management and performance.\n",
        "\n",
        "In NumPy, you can determine the data type of elements in an array using the dtype attribute. This is important in scientific computing and data analysis, as choosing the appropriate data type directly impacts memory usage and computational performance.\n",
        "\n",
        "How to Determine the Data Type\n",
        "To check the data type of elements in a NumPy array, use the .dtype attribute.\n",
        "\n",
        "Example:"
      ],
      "metadata": {
        "id": "o5A_XOFuOCnR"
      }
    },
    {
      "cell_type": "code",
      "source": [
        "import numpy as np\n",
        "\n",
        "array = np.array([1, 2, 3])\n",
        "print(array.dtype)\n"
      ],
      "metadata": {
        "colab": {
          "base_uri": "https://localhost:8080/"
        },
        "id": "gtMfvpgoOPDA",
        "outputId": "1557cea2-7cf2-41fb-88f8-024b3e7b36d9"
      },
      "execution_count": 6,
      "outputs": [
        {
          "output_type": "stream",
          "name": "stdout",
          "text": [
            "int64\n"
          ]
        }
      ]
    },
    {
      "cell_type": "markdown",
      "source": [
        "Importance of Data Types in Memory Management and Performance\n",
        "Data types in NumPy define how many bytes each element in an array will occupy, and they directly affect the efficiency and speed of computations. Here’s why data types are critical for memory management and performance:\n",
        "\n",
        "Memory Efficiency:\n",
        "\n",
        "Each data type (int32, float64, etc.) specifies the number of bytes required to store each element.\n",
        "For example, int8 uses 1 byte per element, while int64 uses 8 bytes per element. By selecting the smallest data type that can accommodate your values, you reduce memory usage.\n",
        "For large datasets, using lower-precision types can drastically reduce memory consumption.\n",
        "\n",
        "Performance Optimization:\n",
        "\n",
        "Lower-precision data types allow NumPy to perform computations faster because smaller data types require less data transfer and can be processed more quickly by the CPU and GPU.\n",
        "For instance, calculations with float32 arrays will generally be faster than with float64 arrays, especially when working on large arrays or when using parallel processing (e.g., on GPUs).\n",
        "Type-Specific Operations:\n",
        "\n",
        "Some algorithms are optimized for certain data types. For example, machine learning models often use float32 or int32 to balance memory usage and speed.\n",
        "In some cases, however, using lower precision can lead to accuracy issues in calculations, especially in cases involving very small or very large values (where float64 might be preferable).\n",
        "Preventing Data Type Overflows:\n",
        "\n",
        "If the values in an array exceed the range of the chosen data type, this can lead to overflow errors, resulting in incorrect values. For example, int8 ranges from -128 to 127, so any value outside this range will cause an overflow.\n",
        "Choosing an appropriate data type can prevent these issues and ensure data integrity.\n",
        "\n",
        "###Define ndarrays in NumPy and explain their key features. How do they differ from standard Python lists?\n",
        "\n",
        "In NumPy, an ndarray (N-dimensional array) is a powerful, versatile array structure that allows for efficient storage, manipulation, and computation of large datasets in Python. ndarrays form the backbone of scientific computing in Python due to their performance advantages over standard Python lists, especially for numerical data.\n",
        "\n",
        "Key Features of ndarrays\n",
        "Multidimensional Structure:\n",
        "\n",
        "ndarrays can have any number of dimensions, from 1D arrays (similar to lists) to higher-dimensional arrays like 2D matrices and beyond.\n",
        "This flexibility allows them to represent vectors, matrices, and even tensors easily.\n",
        "Homogeneous Data Type:\n",
        "\n",
        "All elements in an ndarray must have the same data type (e.g., all integers, all floats). This uniformity improves memory efficiency and speeds up computation.\n",
        "The data type of an array can be checked using the .dtype attribute.\n",
        "Fixed Size:\n",
        "\n",
        "Once created, the size of an ndarray cannot be changed. While elements within the array can be modified, the number of elements remains constant.\n",
        "This immutability of size also contributes to memory efficiency, as contiguous memory blocks are allocated for arrays.\n",
        "Efficient Memory Management:\n",
        "\n",
        "ndarrays store data in contiguous memory blocks, unlike Python lists, which are pointers to separate memory locations.\n",
        "This contiguous storage allows for faster access and manipulation and enables the use of vectorized operations.\n",
        "Support for Mathematical Operations and Broadcasting:\n",
        "\n",
        "ndarrays allow for vectorized operations (element-wise operations), enabling fast and efficient calculations without the need for loops.\n",
        "Broadcasting is another powerful feature that enables operations on arrays of different shapes by \"stretching\" smaller arrays to match larger ones, where possible, saving both time and code complexity.\n",
        "Rich Functionality:\n",
        "\n",
        "NumPy provides a large number of functions to manipulate ndarrays, including slicing, reshaping, mathematical functions, statistical operations, and linear algebra.\n",
        "These built-in functions are optimized for ndarray operations, providing both speed and convenience.\n",
        "\n",
        "Differences Between ndarrays and Standard Python Lists\n",
        "\n",
        "ExAMPLE :"
      ],
      "metadata": {
        "id": "VOOUhyaROU-Z"
      }
    },
    {
      "cell_type": "code",
      "source": [
        "python_list = [1, 2, 3, 4]\n",
        "python_list_squared = [x * x for x in python_list]  # List comprehension for element-wise operations\n"
      ],
      "metadata": {
        "id": "TWoBYDg-OS-I"
      },
      "execution_count": 7,
      "outputs": []
    },
    {
      "cell_type": "code",
      "source": [
        "import numpy as np\n",
        "\n",
        "ndarray = np.array([1, 2, 3, 4])\n",
        "ndarray_squared = ndarray ** 2  # Vectorized operation (faster and more concise)\n"
      ],
      "metadata": {
        "id": "DcWKPRgFO7XW"
      },
      "execution_count": 8,
      "outputs": []
    },
    {
      "cell_type": "code",
      "source": [],
      "metadata": {
        "id": "NWz_Y-YeO90d"
      },
      "execution_count": null,
      "outputs": []
    },
    {
      "cell_type": "markdown",
      "source": [
        "### Analyze the performance benefits of NumPy arrays over Python lists for large-scale numerical operations.\n",
        "\n",
        "NumPy arrays (ndarrays) offer significant performance benefits over Python lists for large-scale numerical operations due to their efficient memory handling, vectorized operations, and support for lower-level optimizations. Here’s a deeper look at why NumPy arrays outperform Python lists in these contexts:\n",
        "\n",
        "1. Memory Efficiency and Data Contiguity\n",
        "Fixed, Homogeneous Data Type: In NumPy arrays, all elements have the same data type, which allows the data to be stored in a contiguous block of memory. This eliminates the need for individual pointers (as in Python lists), reducing memory overhead and improving cache utilization.\n",
        "Contiguous Memory Blocks: Because data is stored contiguously, the CPU can quickly access neighboring elements, making array operations faster, especially for large datasets. This contiguous storage also enables NumPy to leverage efficient lower-level implementations.\n",
        "\n",
        "2. Vectorized Operations\n",
        "No Explicit Loops: NumPy allows element-wise operations on arrays (e.g., addition, multiplication) without the need for explicit Python loops, thanks to its vectorized operations. These vectorized operations are highly optimized and implemented in C, enabling faster execution than Python's for-loops.\n",
        "Efficient SIMD Processing: Vectorized operations allow NumPy to use Single Instruction, Multiple Data (SIMD) processing, where a single operation can be applied to multiple data points simultaneously. This is especially beneficial for large-scale computations.\n",
        "\n",
        "3. Broadcasting\n",
        "Automatic Alignment of Array Shapes: Broadcasting allows operations between arrays of different shapes without requiring explicit looping or manual alignment, as NumPy automatically expands the smaller array to match the dimensions of the larger one.\n",
        "Elimination of Explicit Looping for Dimensionality Matching: This enables faster execution for operations involving arrays of different shapes, which would otherwise require multiple nested loops in pure Python.\n",
        "\n",
        "4. Low-Level Optimization and BLAS/LAPACK Integration\n",
        "Compiled with C and Fortran: Many of NumPy's operations are implemented in lower-level languages like C and Fortran, making them much faster than Python's high-level interpreted code.\n",
        "Integration with BLAS and LAPACK Libraries: NumPy uses highly optimized linear algebra libraries like BLAS (Basic Linear Algebra Subprograms) and LAPACK (Linear Algebra PACKage) for complex operations (e.g., matrix multiplications, inversions, and decompositions), which are significantly faster than Python’s list-based implementations.\n",
        "\n",
        "5. Reduced Overhead from Python Function Calls\n",
        "Avoiding Repeated Python Function Calls: In numerical computations with Python lists, operations often involve repeatedly calling functions within loops, which adds considerable overhead in an interpreted language like Python.\n",
        "Internal Loops in Compiled Code: NumPy minimizes this overhead by executing loops internally in C or Fortran, reducing function call overhead and improving execution speed.\n",
        "\n",
        "###Compare vstack() and hstack() functions in NumPy. Provide examples demonstrating their usage and output\n",
        "\n",
        "In NumPy, the vstack() and hstack() functions are used to stack arrays vertically and horizontally, respectively. They are helpful for combining multiple arrays along specific axes, which can be particularly useful when you need to manipulate data structures like matrices or higher-dimensional arrays.\n",
        "\n",
        "1. np.vstack()\n",
        "Purpose: Vertically stacks arrays on top of each other, creating a new array.\n",
        "Requirement: The input arrays must have the same number of columns (i.e., the same second dimension for 2D arrays).\n",
        "Result: A single array where the input arrays are placed one on top of the other.\n",
        "\n",
        "2. np.hstack()\n",
        "Purpose: Horizontally stacks arrays side by side, creating a new array.\n",
        "Requirement: The input arrays must have the same number of rows (i.e., the same first dimension for 2D arrays).\n",
        "Result: A single array where the input arrays are placed side by side.\n"
      ],
      "metadata": {
        "id": "SuHgIxYeO_ho"
      }
    },
    {
      "cell_type": "code",
      "source": [
        "import numpy as np\n",
        "\n",
        "# Creating two 2D arrays\n",
        "array1 = np.array([[1, 2, 3],\n",
        "                   [4, 5, 6]])\n",
        "\n",
        "array2 = np.array([[7, 8, 9],\n",
        "                   [10, 11, 12]])\n",
        "\n",
        "# Using vstack to combine array1 and array2\n",
        "result_vstack = np.vstack((array1, array2))\n",
        "print(result_vstack)\n"
      ],
      "metadata": {
        "colab": {
          "base_uri": "https://localhost:8080/"
        },
        "id": "s0z8jZESP1DM",
        "outputId": "cdc95118-7a62-4b85-90fc-01448e88c276"
      },
      "execution_count": 9,
      "outputs": [
        {
          "output_type": "stream",
          "name": "stdout",
          "text": [
            "[[ 1  2  3]\n",
            " [ 4  5  6]\n",
            " [ 7  8  9]\n",
            " [10 11 12]]\n"
          ]
        }
      ]
    },
    {
      "cell_type": "code",
      "source": [
        "# Using the same arrays as before\n",
        "result_hstack = np.hstack((array1, array2))\n",
        "print(result_hstack)\n"
      ],
      "metadata": {
        "colab": {
          "base_uri": "https://localhost:8080/"
        },
        "id": "mcEkdel4P2J1",
        "outputId": "859553d8-8165-4069-93bb-bc1ed17bb167"
      },
      "execution_count": 10,
      "outputs": [
        {
          "output_type": "stream",
          "name": "stdout",
          "text": [
            "[[ 1  2  3  7  8  9]\n",
            " [ 4  5  6 10 11 12]]\n"
          ]
        }
      ]
    },
    {
      "cell_type": "code",
      "source": [],
      "metadata": {
        "id": "yVybeRYwP5bU"
      },
      "execution_count": null,
      "outputs": []
    },
    {
      "cell_type": "markdown",
      "source": [
        "### Explain the differences between fliplr() and flipud() methods in NumPy, including their effects on various array dimensions.\n",
        "\n",
        "In NumPy, np.fliplr() and np.flipud() are functions used to flip arrays in different directions. Here’s a breakdown of each function and how they affect the array:\n",
        "\n",
        "1. np.fliplr()\n",
        "Purpose: Flips (reverses) the elements in each row, effectively flipping the array along the vertical axis (left-to-right).\n",
        "Applies to: Only works on arrays with two or more dimensions (i.e., 2D arrays or higher).\n",
        "Effect: It reverses the order of columns in the array but keeps the rows in their original order."
      ],
      "metadata": {
        "id": "NobWpHXiP6yZ"
      }
    },
    {
      "cell_type": "code",
      "source": [
        "import numpy as np\n",
        "\n",
        "# Creating a 2D array\n",
        "array = np.array([[1, 2, 3],\n",
        "                  [4, 5, 6],\n",
        "                  [7, 8, 9]])\n",
        "\n",
        "# Using fliplr\n",
        "fliplr_result = np.fliplr(array)\n",
        "print(fliplr_result)\n"
      ],
      "metadata": {
        "colab": {
          "base_uri": "https://localhost:8080/"
        },
        "id": "4v4lHn3nQJu_",
        "outputId": "be461626-3924-46ed-f5c3-3182dc09c3b9"
      },
      "execution_count": 11,
      "outputs": [
        {
          "output_type": "stream",
          "name": "stdout",
          "text": [
            "[[3 2 1]\n",
            " [6 5 4]\n",
            " [9 8 7]]\n"
          ]
        }
      ]
    },
    {
      "cell_type": "code",
      "source": [],
      "metadata": {
        "id": "KahaxevIQKPE"
      },
      "execution_count": null,
      "outputs": []
    },
    {
      "cell_type": "markdown",
      "source": [
        "2. np.flipud()\n",
        "Purpose: Flips (reverses) the elements in each column, effectively flipping the array along the horizontal axis (top-to-bottom).\n",
        "Applies to: Works on arrays with any number of dimensions (1D, 2D, or higher).\n",
        "Effect: It reverses the order of rows in the array but keeps the columns in their original order."
      ],
      "metadata": {
        "id": "cUCUWJeJQLUJ"
      }
    },
    {
      "cell_type": "code",
      "source": [
        "# Using flipud\n",
        "flipud_result = np.flipud(array)\n",
        "print(flipud_result)\n"
      ],
      "metadata": {
        "colab": {
          "base_uri": "https://localhost:8080/"
        },
        "id": "v-ZYfFSnQPYg",
        "outputId": "c04c425e-75da-459c-83cb-31bb32fe7c1a"
      },
      "execution_count": 12,
      "outputs": [
        {
          "output_type": "stream",
          "name": "stdout",
          "text": [
            "[[7 8 9]\n",
            " [4 5 6]\n",
            " [1 2 3]]\n"
          ]
        }
      ]
    },
    {
      "cell_type": "code",
      "source": [],
      "metadata": {
        "id": "e_KCiszWQQ6K"
      },
      "execution_count": null,
      "outputs": []
    },
    {
      "cell_type": "markdown",
      "source": [
        "### Discuss the functionality of the array_split() method in NumPy. How does it handle uneven splits?\n",
        "\n",
        "The np.array_split() function in NumPy is used to split an array into a specified number of smaller sub-arrays. It is similar to np.split(), but with an important difference: array_split() can handle cases where the array cannot be divided evenly, while split() cannot.\n",
        "\n",
        "Key Features of array_split()\n",
        "Flexible Splitting: array_split() allows for splitting an array into a specified number of parts, even if the array's length is not perfectly divisible by that number.\n",
        "Handling Uneven Splits: When the array length doesn’t evenly divide by the number of splits, array_split() distributes the elements as evenly as possible, assigning extra elements to the earlier sub-arrays.\n",
        "How array_split() Handles Uneven Splits\n",
        "When the array length isn’t an exact multiple of the number of splits, array_split() divides the array into parts that are as close to equal as possible. Any remaining elements (the \"remainder\") are added one at a time to the beginning sub-arrays until all elements are distributed.\n",
        "\n",
        "For example, if you try to split an array of length 10 into 3 parts, array_split() will create sub-arrays of lengths 4, 3, and 3, respectively, instead of failing or truncating data."
      ],
      "metadata": {
        "id": "6f6OdU4nQZ1c"
      }
    },
    {
      "cell_type": "code",
      "source": [
        "import numpy as np\n",
        "\n",
        "# Creating a 1D array of length 10\n",
        "array = np.array([1, 2, 3, 4, 5, 6, 7, 8, 9, 10])\n",
        "\n",
        "# Splitting the array into 3 parts\n",
        "result = np.array_split(array, 3)\n",
        "print(result)\n"
      ],
      "metadata": {
        "colab": {
          "base_uri": "https://localhost:8080/"
        },
        "id": "YBrPLpqPQlgK",
        "outputId": "7dd266d7-6f94-4879-8950-a59eaa51440d"
      },
      "execution_count": 13,
      "outputs": [
        {
          "output_type": "stream",
          "name": "stdout",
          "text": [
            "[array([1, 2, 3, 4]), array([5, 6, 7]), array([ 8,  9, 10])]\n"
          ]
        }
      ]
    },
    {
      "cell_type": "code",
      "source": [],
      "metadata": {
        "id": "0GgA6siiQnMc"
      },
      "execution_count": null,
      "outputs": []
    },
    {
      "cell_type": "markdown",
      "source": [
        "Splitting Multi-Dimensional Arrays\n",
        "The array_split() function can also split multi-dimensional arrays along a specified axis. This allows for splitting along rows (axis=0) or columns (axis=1) in 2D arrays."
      ],
      "metadata": {
        "id": "YKkc3Sz-QoFd"
      }
    },
    {
      "cell_type": "code",
      "source": [
        "# Creating a 2D array\n",
        "array_2d = np.array([[1, 2, 3, 4],\n",
        "                     [5, 6, 7, 8],\n",
        "                     [9, 10, 11, 12]])\n",
        "\n",
        "# Splitting the 2D array into 2 parts along the columns (axis=1)\n",
        "result_2d = np.array_split(array_2d, 2, axis=1)\n",
        "print(result_2d)\n"
      ],
      "metadata": {
        "colab": {
          "base_uri": "https://localhost:8080/"
        },
        "id": "RIXga-vjQrEm",
        "outputId": "4625569e-b974-45ac-da68-90f4f0eeb498"
      },
      "execution_count": 14,
      "outputs": [
        {
          "output_type": "stream",
          "name": "stdout",
          "text": [
            "[array([[ 1,  2],\n",
            "       [ 5,  6],\n",
            "       [ 9, 10]]), array([[ 3,  4],\n",
            "       [ 7,  8],\n",
            "       [11, 12]])]\n"
          ]
        }
      ]
    },
    {
      "cell_type": "code",
      "source": [],
      "metadata": {
        "id": "u1dyhWtgQst5"
      },
      "execution_count": null,
      "outputs": []
    },
    {
      "cell_type": "markdown",
      "source": [
        "###. Explain the concepts of vectorization and broadcasting in NumPy. How do they contribute to efficient array operations?\n",
        "\n",
        "In NumPy, vectorization and broadcasting are two core concepts that enable efficient array operations by eliminating explicit loops and optimizing memory usage. They allow operations on arrays to be executed faster and more concisely, especially for large datasets.\n",
        "\n",
        "1. Vectorization\n",
        "Definition: Vectorization is the process of applying operations to entire arrays or large chunks of data at once, without the need for explicit Python loops.\n",
        "\n",
        "How it Works: In NumPy, vectorized operations leverage low-level implementations in languages like C or Fortran, which process multiple elements simultaneously. This allows operations to be applied directly on arrays, making them significantly faster than looping over individual elements in Python.\n",
        "\n",
        "Advantages of Vectorization:\n",
        "\n",
        "Speed: By avoiding Python loops and leveraging optimized low-level code, vectorized operations are much faster.\n",
        "Simplicity: Vectorized syntax is concise, making the code easier to read and maintain.\n",
        "Memory Efficiency: Processes multiple elements at once without creating intermediate variables, reducing memory overhead.\n",
        "\n",
        "2. Broadcasting\n",
        "Definition: Broadcasting allows NumPy to perform operations on arrays of different shapes by automatically \"stretching\" or expanding the smaller array to match the shape of the larger array.\n",
        "\n",
        "How it Works: When two arrays have compatible shapes (based on broadcasting rules), NumPy expands the dimensions of the smaller array along the axis of the larger one so they can be combined element-wise. Broadcasting is only possible when the dimensions of the arrays align in a compatible way.\n",
        "\n",
        "Broadcasting Rules:\n",
        "\n",
        "If arrays have different shapes, NumPy starts from the last dimension and works backwards.\n",
        "Two dimensions are compatible if they are equal or if one of them is 1.\n",
        "\n",
        "Advantages of Broadcasting:\n",
        "\n",
        "Avoids Explicit Looping: Broadcasting eliminates the need for nested loops to match dimensions manually, making code more efficient.\n",
        "Reduces Memory Usage: Instead of creating a larger array explicitly, broadcasting uses temporary views of the original arrays, which saves memory.\n",
        "Simplifies Code: Broadcasting syntax is clean and expressive, reducing code complexity in multi-dimensional operations."
      ],
      "metadata": {
        "id": "N180hlZZQv9X"
      }
    },
    {
      "cell_type": "markdown",
      "source": [
        "#PRACTICAL\n",
        "\n",
        "###1. Create a 3x3 NumPy array with random integers between 1 and 100. Then, interchange its rows and columns."
      ],
      "metadata": {
        "id": "mG0ytMr4RBrQ"
      }
    },
    {
      "cell_type": "code",
      "source": [
        "import numpy as np\n",
        "\n",
        "# Create a 3x3 NumPy array with random integers between 1 and 100\n",
        "array_3x3 = np.random.randint(1, 101, size=(3, 3))\n",
        "\n",
        "# Display the original array\n",
        "print(\"Original Array:\")\n",
        "print(array_3x3)\n",
        "\n",
        "# Interchange its rows and columns (transpose the array)\n",
        "interchanged_array = array_3x3.T\n",
        "\n",
        "# Display the transposed array\n",
        "print(\"\\nInterchanged Rows and Columns (Transposed Array):\")\n",
        "print(interchanged_array)\n"
      ],
      "metadata": {
        "colab": {
          "base_uri": "https://localhost:8080/"
        },
        "id": "ys3byMRIRRY5",
        "outputId": "a09ab457-2799-4b04-d8db-4e999ebc9702"
      },
      "execution_count": 15,
      "outputs": [
        {
          "output_type": "stream",
          "name": "stdout",
          "text": [
            "Original Array:\n",
            "[[25 78 38]\n",
            " [74 60 92]\n",
            " [67 18 58]]\n",
            "\n",
            "Interchanged Rows and Columns (Transposed Array):\n",
            "[[25 74 67]\n",
            " [78 60 18]\n",
            " [38 92 58]]\n"
          ]
        }
      ]
    },
    {
      "cell_type": "code",
      "source": [],
      "metadata": {
        "id": "eh6VfGABRfWJ"
      },
      "execution_count": null,
      "outputs": []
    },
    {
      "cell_type": "markdown",
      "source": [
        "###Generate a 1D NumPy array with 10 elements. Reshape it into a 2x5 array, then into a 5x2 array"
      ],
      "metadata": {
        "id": "UKkE313-RglY"
      }
    },
    {
      "cell_type": "code",
      "source": [
        "import numpy as np\n",
        "\n",
        "# Generate a 1D NumPy array with 10 elements\n",
        "array_1d = np.arange(10)  # Creates an array with elements from 0 to 9\n",
        "\n",
        "# Reshape the array into a 2x5 array\n",
        "array_2x5 = array_1d.reshape(2, 5)\n",
        "\n",
        "# Reshape the array into a 5x2 array\n",
        "array_5x2 = array_1d.reshape(5, 2)\n",
        "\n",
        "# Print results\n",
        "print(\"1D Array:\", array_1d)\n",
        "print(\"2x5 Array:\\n\", array_2x5)\n",
        "print(\"5x2 Array:\\n\", array_5x2)\n"
      ],
      "metadata": {
        "colab": {
          "base_uri": "https://localhost:8080/"
        },
        "id": "ZhpMr9hFRr4-",
        "outputId": "b8798183-9fc7-44ad-b506-1b709a412be1"
      },
      "execution_count": 16,
      "outputs": [
        {
          "output_type": "stream",
          "name": "stdout",
          "text": [
            "1D Array: [0 1 2 3 4 5 6 7 8 9]\n",
            "2x5 Array:\n",
            " [[0 1 2 3 4]\n",
            " [5 6 7 8 9]]\n",
            "5x2 Array:\n",
            " [[0 1]\n",
            " [2 3]\n",
            " [4 5]\n",
            " [6 7]\n",
            " [8 9]]\n"
          ]
        }
      ]
    },
    {
      "cell_type": "code",
      "source": [],
      "metadata": {
        "id": "zm-Qtmp4RtVz"
      },
      "execution_count": null,
      "outputs": []
    },
    {
      "cell_type": "markdown",
      "source": [
        "###Create a 4x4 NumPy array with random float values. Add a border of zeros around it, resulting in a 6x6 array\n",
        "\n"
      ],
      "metadata": {
        "id": "Bhui7TPXRw4t"
      }
    },
    {
      "cell_type": "code",
      "source": [
        "import numpy as np\n",
        "\n",
        "# Create a 4x4 NumPy array with random float values\n",
        "array_4x4 = np.random.rand(4, 4)\n",
        "\n",
        "# Add a border of zeros around the array\n",
        "array_with_border = np.pad(array_4x4, pad_width=1, mode='constant', constant_values=0)\n",
        "\n",
        "# Print results\n",
        "print(\"Original 4x4 Array:\")\n",
        "print(array_4x4)\n",
        "print(\"\\n6x6 Array with Border of Zeros:\")\n",
        "print(array_with_border)\n"
      ],
      "metadata": {
        "colab": {
          "base_uri": "https://localhost:8080/"
        },
        "id": "EdnCzuZdR1X7",
        "outputId": "954a4999-a207-48b9-beda-48756373b8e9"
      },
      "execution_count": 17,
      "outputs": [
        {
          "output_type": "stream",
          "name": "stdout",
          "text": [
            "Original 4x4 Array:\n",
            "[[0.67165557 0.59410853 0.3736359  0.54092924]\n",
            " [0.47439197 0.19652077 0.60664358 0.19294746]\n",
            " [0.05485722 0.87171274 0.53275262 0.94926146]\n",
            " [0.68151513 0.95229769 0.53036908 0.8332544 ]]\n",
            "\n",
            "6x6 Array with Border of Zeros:\n",
            "[[0.         0.         0.         0.         0.         0.        ]\n",
            " [0.         0.67165557 0.59410853 0.3736359  0.54092924 0.        ]\n",
            " [0.         0.47439197 0.19652077 0.60664358 0.19294746 0.        ]\n",
            " [0.         0.05485722 0.87171274 0.53275262 0.94926146 0.        ]\n",
            " [0.         0.68151513 0.95229769 0.53036908 0.8332544  0.        ]\n",
            " [0.         0.         0.         0.         0.         0.        ]]\n"
          ]
        }
      ]
    },
    {
      "cell_type": "code",
      "source": [],
      "metadata": {
        "id": "exGn5STpSiIv"
      },
      "execution_count": null,
      "outputs": []
    },
    {
      "cell_type": "markdown",
      "source": [
        "### Using NumPy, create an array of integers from 10 to 60 with a step of 5"
      ],
      "metadata": {
        "id": "RoRU19p3SkPx"
      }
    },
    {
      "cell_type": "code",
      "source": [
        "import numpy as np\n",
        "\n",
        "# Create an array of integers from 10 to 60 with a step of 5\n",
        "array_integers = np.arange(10, 61, 5)\n",
        "\n",
        "# Print the result\n",
        "print(array_integers)\n"
      ],
      "metadata": {
        "colab": {
          "base_uri": "https://localhost:8080/"
        },
        "id": "8Zx_AmUxSpdt",
        "outputId": "075416c6-12ac-4aa7-a932-4036768c9cc4"
      },
      "execution_count": 18,
      "outputs": [
        {
          "output_type": "stream",
          "name": "stdout",
          "text": [
            "[10 15 20 25 30 35 40 45 50 55 60]\n"
          ]
        }
      ]
    },
    {
      "cell_type": "code",
      "source": [],
      "metadata": {
        "id": "wmoljbscSxrR"
      },
      "execution_count": null,
      "outputs": []
    },
    {
      "cell_type": "markdown",
      "source": [
        "###Create a NumPy array of strings ['python', 'numpy', 'pandas']. Apply different case transformations (uppercase, lowercase, title case, etc.) to each element"
      ],
      "metadata": {
        "id": "PKB6GNsxS2e3"
      }
    },
    {
      "cell_type": "code",
      "source": [
        "import numpy as np\n",
        "\n",
        "# Create a NumPy array of strings\n",
        "string_array = np.array(['python', 'numpy', 'pandas'])\n",
        "\n",
        "# Apply different case transformations\n",
        "uppercase_array = np.char.upper(string_array)   # Convert to uppercase\n",
        "lowercase_array = np.char.lower(string_array)   # Convert to lowercase\n",
        "titlecase_array = np.char.title(string_array)    # Convert to title case\n",
        "\n",
        "# Print the results\n",
        "print(\"Original Array:\")\n",
        "print(string_array)\n",
        "print(\"\\nUppercase Array:\")\n",
        "print(uppercase_array)\n",
        "print(\"\\nLowercase Array:\")\n",
        "print(lowercase_array)\n",
        "print(\"\\nTitlecase Array:\")\n",
        "print(titlecase_array)\n"
      ],
      "metadata": {
        "colab": {
          "base_uri": "https://localhost:8080/"
        },
        "id": "9sm9-vT3TCME",
        "outputId": "86a797ff-c052-48de-fd3b-b4142d26d455"
      },
      "execution_count": 19,
      "outputs": [
        {
          "output_type": "stream",
          "name": "stdout",
          "text": [
            "Original Array:\n",
            "['python' 'numpy' 'pandas']\n",
            "\n",
            "Uppercase Array:\n",
            "['PYTHON' 'NUMPY' 'PANDAS']\n",
            "\n",
            "Lowercase Array:\n",
            "['python' 'numpy' 'pandas']\n",
            "\n",
            "Titlecase Array:\n",
            "['Python' 'Numpy' 'Pandas']\n"
          ]
        }
      ]
    },
    {
      "cell_type": "code",
      "source": [],
      "metadata": {
        "id": "nOFYrHwhTGWS"
      },
      "execution_count": null,
      "outputs": []
    },
    {
      "cell_type": "markdown",
      "source": [
        "###Generate a NumPy array of words. Insert a space between each character of every word in the array."
      ],
      "metadata": {
        "id": "faxfqRjzTIuE"
      }
    },
    {
      "cell_type": "code",
      "source": [
        "import numpy as np\n",
        "\n",
        "# Create a NumPy array of words\n",
        "words_array = np.array(['hello', 'world', 'numpy', 'python'])\n",
        "\n",
        "# Insert a space between each character of every word in the array\n",
        "spaced_words_array = np.array([' '.join(word) for word in words_array])\n",
        "\n",
        "# Print the result\n",
        "print(\"Original Array:\")\n",
        "print(words_array)\n",
        "print(\"\\nArray with Spaces Between Characters:\")\n",
        "print(spaced_words_array)\n"
      ],
      "metadata": {
        "colab": {
          "base_uri": "https://localhost:8080/"
        },
        "id": "xs7aJXlKTSf-",
        "outputId": "def6670c-b13a-4deb-e031-c402be7cdd96"
      },
      "execution_count": 20,
      "outputs": [
        {
          "output_type": "stream",
          "name": "stdout",
          "text": [
            "Original Array:\n",
            "['hello' 'world' 'numpy' 'python']\n",
            "\n",
            "Array with Spaces Between Characters:\n",
            "['h e l l o' 'w o r l d' 'n u m p y' 'p y t h o n']\n"
          ]
        }
      ]
    },
    {
      "cell_type": "code",
      "source": [],
      "metadata": {
        "id": "lfUtSIbxTTBU"
      },
      "execution_count": null,
      "outputs": []
    },
    {
      "cell_type": "markdown",
      "source": [
        "###"
      ],
      "metadata": {
        "id": "ZgdyRVeWTUuK"
      }
    },
    {
      "cell_type": "code",
      "source": [
        "import numpy as np\n",
        "\n",
        "# Create two 2D NumPy arrays\n",
        "array_a = np.array([[1, 2, 3],\n",
        "                     [4, 5, 6]])\n",
        "array_b = np.array([[10, 20, 30],\n",
        "                     [40, 50, 60]])\n",
        "\n",
        "# Perform element-wise addition\n",
        "sum = array_a + array_b\n",
        "\n",
        "# Perform element-wise subtraction\n",
        "subtraction = array_a - array_b\n",
        "\n",
        "# Perform element-wise multiplication\n",
        "multiplication = array_a * array_b\n",
        "\n",
        "# Perform element-wise division\n",
        "division = array_a / array_b\n",
        "\n",
        "print(sum)\n",
        "\n",
        "print(subtraction)\n",
        "\n",
        "print(multiplication)\n",
        "\n",
        "print(division)\n",
        "\n"
      ],
      "metadata": {
        "colab": {
          "base_uri": "https://localhost:8080/"
        },
        "id": "7hvD4-h8TlAB",
        "outputId": "fcfaa461-9263-41f2-91be-1da940b61a89"
      },
      "execution_count": 25,
      "outputs": [
        {
          "output_type": "stream",
          "name": "stdout",
          "text": [
            "[[11 22 33]\n",
            " [44 55 66]]\n",
            "[[ -9 -18 -27]\n",
            " [-36 -45 -54]]\n",
            "[[ 10  40  90]\n",
            " [160 250 360]]\n",
            "[[0.1 0.1 0.1]\n",
            " [0.1 0.1 0.1]]\n"
          ]
        }
      ]
    },
    {
      "cell_type": "code",
      "source": [],
      "metadata": {
        "id": "wAt927B_TuKF"
      },
      "execution_count": null,
      "outputs": []
    },
    {
      "cell_type": "markdown",
      "source": [
        "### Use NumPy to create a 5x5 identity matrix, then extract its diagonal elements."
      ],
      "metadata": {
        "id": "A4-8zoKGUMci"
      }
    },
    {
      "cell_type": "code",
      "source": [
        "import numpy as np\n",
        "\n",
        "# Create a 5x5 identity matrix\n",
        "identity_matrix = np.eye(5)\n",
        "\n",
        "# Extract the diagonal elements\n",
        "diagonal_elements = np.diag(identity_matrix)\n",
        "\n",
        "# Print the results\n",
        "print(\"5x5 Identity Matrix:\")\n",
        "print(identity_matrix)\n",
        "print(\"\\nDiagonal Elements:\")\n",
        "print(diagonal_elements)\n"
      ],
      "metadata": {
        "colab": {
          "base_uri": "https://localhost:8080/"
        },
        "id": "RPxn_yctUN5m",
        "outputId": "6cebd558-7789-494e-cfdb-114200e7b965"
      },
      "execution_count": 26,
      "outputs": [
        {
          "output_type": "stream",
          "name": "stdout",
          "text": [
            "5x5 Identity Matrix:\n",
            "[[1. 0. 0. 0. 0.]\n",
            " [0. 1. 0. 0. 0.]\n",
            " [0. 0. 1. 0. 0.]\n",
            " [0. 0. 0. 1. 0.]\n",
            " [0. 0. 0. 0. 1.]]\n",
            "\n",
            "Diagonal Elements:\n",
            "[1. 1. 1. 1. 1.]\n"
          ]
        }
      ]
    },
    {
      "cell_type": "code",
      "source": [],
      "metadata": {
        "id": "H7K-3fYdUVL3"
      },
      "execution_count": null,
      "outputs": []
    },
    {
      "cell_type": "markdown",
      "source": [
        "### Generate a NumPy array of 100 random integers between 0 and 1000. Find and display all prime numbers in this array."
      ],
      "metadata": {
        "id": "V1pTuEHPUWRW"
      }
    },
    {
      "cell_type": "code",
      "source": [
        "import numpy as np\n",
        "\n",
        "# Create an array of 100 random integers between 0 and 1000\n",
        "random_integers = np.random.randint(0, 1001, size=100)\n",
        "\n",
        "# Function to check if a number is prime\n",
        "def is_prime(num):\n",
        "    if num <= 1:\n",
        "        return False\n",
        "    for i in range(2, int(num**0.5) + 1):\n",
        "        if num % i == 0:\n",
        "            return False\n",
        "    return True\n",
        "\n",
        "# Find all prime numbers in the array\n",
        "prime_numbers = [num for num in random_integers if is_prime(num)]\n",
        "\n",
        "# Print the results\n",
        "print(\"Random Integers:\")\n",
        "print(random_integers)\n",
        "print(\"\\nPrime Numbers:\")\n",
        "print(prime_numbers)\n"
      ],
      "metadata": {
        "colab": {
          "base_uri": "https://localhost:8080/"
        },
        "id": "ap6hI3T5UZ0C",
        "outputId": "53145774-667f-4abd-b624-47128a61d317"
      },
      "execution_count": 27,
      "outputs": [
        {
          "output_type": "stream",
          "name": "stdout",
          "text": [
            "Random Integers:\n",
            "[361 597 173 881 816 674 741 341 268  11 920 358 776 917 497 111 825 236\n",
            " 145 734 540 266 724 214 691  95  69 477  24 506 434 899 819 547 422  96\n",
            " 180 950 833   9 219 222 780 346 991 505 345 436 555 590 296 955 471 420\n",
            " 469 482 593 142 515 986 355 217  73 217 332 503 687 398  36  20 685 241\n",
            " 793 361  38 443 108 171  85 807 982 708 209 780 485 990 585 914  31 399\n",
            "   9 823 584 450 384 898 620 954 759 312]\n",
            "\n",
            "Prime Numbers:\n",
            "[173, 881, 11, 691, 547, 991, 593, 73, 503, 241, 443, 31, 823]\n"
          ]
        }
      ]
    },
    {
      "cell_type": "code",
      "source": [],
      "metadata": {
        "id": "ZLmzSVt8UlD-"
      },
      "execution_count": null,
      "outputs": []
    },
    {
      "cell_type": "markdown",
      "source": [
        "### Create a NumPy array representing daily temperatures for a month. Calculate and display the weekly averages."
      ],
      "metadata": {
        "id": "pVzQ_uaFUnm2"
      }
    },
    {
      "cell_type": "code",
      "source": [
        "import numpy as np\n",
        "\n",
        "# Create a NumPy array representing daily temperatures for a month (30 days)\n",
        "# Using fixed values for clarity (e.g., temperature in degrees Celsius)\n",
        "daily_temperatures = np.array([\n",
        "    22, 24, 25, 23, 20, 21, 24,  # Week 1\n",
        "    26, 27, 28, 29, 30, 28, 25,  # Week 2\n",
        "    22, 21, 20, 19, 22, 23, 25,  # Week 3\n",
        "    27, 26, 25, 24, 23, 22, 21,  # Week 4\n",
        "    20, 19, 18, 17,              # Last 2 days\n",
        "])\n",
        "\n",
        "# Calculate weekly averages\n",
        "# Reshape into a 4-week structure (4 weeks of 7 days, and remaining days can be handled separately)\n",
        "weekly_temperatures = daily_temperatures[:28].reshape(4, 7)  # First 28 days for 4 full weeks\n",
        "remaining_days = daily_temperatures[28:]  # Last 2 days\n",
        "\n",
        "# Calculate weekly averages\n",
        "weekly_averages = np.mean(weekly_temperatures, axis=1)\n",
        "\n",
        "# Print the results\n",
        "print(\"Daily Temperatures for the Month:\")\n",
        "print(daily_temperatures)\n",
        "print(\"\\nWeekly Averages:\")\n",
        "print(weekly_averages)\n",
        "\n",
        "# Handle the last week with remaining days\n",
        "last_week_average = np.mean(remaining_days) if len(remaining_days) > 0 else None\n",
        "print(\"\\nAverage of Remaining Days:\")\n",
        "print(last_week_average)\n",
        "\n"
      ],
      "metadata": {
        "colab": {
          "base_uri": "https://localhost:8080/"
        },
        "id": "niafgo8jUqw8",
        "outputId": "0111f834-73b0-4ec2-bb0e-8e6e93096a66"
      },
      "execution_count": 36,
      "outputs": [
        {
          "output_type": "stream",
          "name": "stdout",
          "text": [
            "Daily Temperatures for the Month:\n",
            "[22 24 25 23 20 21 24 26 27 28 29 30 28 25 22 21 20 19 22 23 25 27 26 25\n",
            " 24 23 22 21 20 19 18 17]\n",
            "\n",
            "Weekly Averages:\n",
            "[22.71428571 27.57142857 21.71428571 24.        ]\n",
            "\n",
            "Average of Remaining Days:\n",
            "18.5\n"
          ]
        }
      ]
    },
    {
      "cell_type": "code",
      "source": [],
      "metadata": {
        "id": "2R1uMFgoVk6V"
      },
      "execution_count": null,
      "outputs": []
    }
  ]
}